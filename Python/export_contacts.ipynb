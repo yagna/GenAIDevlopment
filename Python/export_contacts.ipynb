{
 "cells": [
  {
   "cell_type": "code",
   "execution_count": 2,
   "id": "cdb8fc8c",
   "metadata": {},
   "outputs": [
    {
     "name": "stdout",
     "output_type": "stream",
     "text": [
      "Usage: python vcf_to_csv.py input.vcf output.csv\n"
     ]
    },
    {
     "ename": "SystemExit",
     "evalue": "1",
     "output_type": "error",
     "traceback": [
      "An exception has occurred, use %tb to see the full traceback.\n",
      "\u001b[31mSystemExit\u001b[39m\u001b[31m:\u001b[39m 1\n"
     ]
    }
   ],
   "source": [
    "#!/usr/bin/env python3\n",
    "# vcf_to_csv.py — simple vCard (.vcf) -> CSV converter for contacts\n",
    "import sys\n",
    "import csv\n",
    "from collections import defaultdict\n",
    "\n",
    "def parse_vcf(path):\n",
    "    entries = []\n",
    "    with open(path, 'r', encoding='utf-8', errors='ignore') as f:\n",
    "        current = defaultdict(list)\n",
    "        for line in f:\n",
    "            line = line.strip()\n",
    "            if not line: \n",
    "                continue\n",
    "            if line.upper() == 'BEGIN:VCARD':\n",
    "                current = defaultdict(list)\n",
    "            elif line.upper() == 'END:VCARD':\n",
    "                entries.append(current)\n",
    "            else:\n",
    "                if ':' in line:\n",
    "                    parts = line.split(':', 1)\n",
    "                    key = parts[0].upper()\n",
    "                    val = parts[1]\n",
    "                    current[key].append(val)\n",
    "        return entries\n",
    "\n",
    "def get_primary(values):\n",
    "    return values[0] if values else ''\n",
    "\n",
    "def vcard_to_rows(entries):\n",
    "    rows = []\n",
    "    for e in entries:\n",
    "        row = {\n",
    "            'Full Name': get_primary(e.get('FN') or e.get('N')),\n",
    "            'Name Field': get_primary(e.get('N')),\n",
    "            'Phone': ';'.join(e.get('TEL', [])),\n",
    "            'Email': ';'.join(e.get('EMAIL', [])),\n",
    "            'Org': get_primary(e.get('ORG')),\n",
    "            'Title': get_primary(e.get('TITLE')),\n",
    "            'Note': get_primary(e.get('NOTE')),\n",
    "        }\n",
    "        rows.append(row)\n",
    "    return rows\n",
    "\n",
    "def main():\n",
    "    if len(sys.argv) < 3:\n",
    "        print(\"Usage: python vcf_to_csv.py input.vcf output.csv\")\n",
    "        sys.exit(1)\n",
    "    in_vcf = sys.argv[1]\n",
    "    out_csv = sys.argv[2]\n",
    "    entries = parse_vcf(in_vcf)\n",
    "    rows = vcard_to_rows(entries)\n",
    "    keys = ['Full Name','Name Field','Phone','Email','Org','Title','Note']\n",
    "    with open(out_csv, 'w', newline='', encoding='utf-8') as f:\n",
    "        writer = csv.DictWriter(f, fieldnames=keys)\n",
    "        writer.writeheader()\n",
    "        for r in rows:\n",
    "            writer.writerow(r)\n",
    "    print(f\"Wrote {len(rows)} contacts to {out_csv}\")\n",
    "\n",
    "if __name__ == '__main__':\n",
    "    main()\n"
   ]
  },
  {
   "cell_type": "markdown",
   "id": "372f1a9c",
   "metadata": {},
   "source": [
    "# Contacts need to load into CRM\n",
    "* convert the contacts in to vcf file to csv file and merge them in to different groups"
   ]
  },
  {
   "cell_type": "markdown",
   "id": "903a0e30",
   "metadata": {},
   "source": []
  }
 ],
 "metadata": {
  "kernelspec": {
   "display_name": "Python 3",
   "language": "python",
   "name": "python3"
  },
  "language_info": {
   "codemirror_mode": {
    "name": "ipython",
    "version": 3
   },
   "file_extension": ".py",
   "mimetype": "text/x-python",
   "name": "python",
   "nbconvert_exporter": "python",
   "pygments_lexer": "ipython3",
   "version": "3.12.5"
  }
 },
 "nbformat": 4,
 "nbformat_minor": 5
}
