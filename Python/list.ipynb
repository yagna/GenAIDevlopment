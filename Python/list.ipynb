{
 "cells": [
  {
   "cell_type": "markdown",
   "id": "87d63d64",
   "metadata": {},
   "source": [
    "#Problem \n",
    "* expenses categerories lis \n",
    "* travel\n",
    "* utilities\n",
    "\n",
    "* get the list\n",
    "\n"
   ]
  },
  {
   "cell_type": "code",
   "execution_count": 1,
   "id": "b77553a6",
   "metadata": {},
   "outputs": [
    {
     "ename": "ValueError",
     "evalue": "could not convert string to float: 'ok'",
     "output_type": "error",
     "traceback": [
      "\u001b[31m---------------------------------------------------------------------------\u001b[39m",
      "\u001b[31mValueError\u001b[39m                                Traceback (most recent call last)",
      "\u001b[36mCell\u001b[39m\u001b[36m \u001b[39m\u001b[32mIn[1]\u001b[39m\u001b[32m, line 5\u001b[39m\n\u001b[32m      1\u001b[39m expense_dic ={}\n\u001b[32m      3\u001b[39m category=\u001b[38;5;28minput\u001b[39m(\u001b[33m'\u001b[39m\u001b[33mInput the category\u001b[39m\u001b[33m'\u001b[39m)\n\u001b[32m----> \u001b[39m\u001b[32m5\u001b[39m expense=\u001b[38;5;28;43mfloat\u001b[39;49m\u001b[43m(\u001b[49m\u001b[38;5;28;43minput\u001b[39;49m\u001b[43m(\u001b[49m\u001b[33;43m'\u001b[39;49m\u001b[33;43mexpense in RupeeS:\u001b[39;49m\u001b[33;43m'\u001b[39;49m\u001b[43m)\u001b[49m\u001b[43m)\u001b[49m\n\u001b[32m      7\u001b[39m \u001b[38;5;66;03m#for expense in expense_dic.keys:\u001b[39;00m\n\u001b[32m      8\u001b[39m  \u001b[38;5;66;03m#if(expense ==category):\u001b[39;00m\n\u001b[32m      9\u001b[39m \n\u001b[32m     10\u001b[39m   \u001b[38;5;66;03m#else:\u001b[39;00m\n\u001b[32m     11\u001b[39m  \u001b[38;5;66;03m#expense_dic.add\u001b[39;00m\n",
      "\u001b[31mValueError\u001b[39m: could not convert string to float: 'ok'"
     ]
    }
   ],
   "source": [
    "expense_dic ={}\n",
    "\n",
    "category=input('Input the category')\n",
    "\n",
    "expense=float(input('expense in RupeeS:'))\n",
    "\n",
    "#for expense in expense_dic.keys:\n",
    " #if(expense ==category):\n",
    "\n",
    "  #else:\n",
    " #expense_dic.add\n",
    "\n"
   ]
  },
  {
   "cell_type": "markdown",
   "id": "7138db55",
   "metadata": {},
   "source": [
    "# Problem -2 WordCount from sentense\n",
    "* word count like \n",
    "\n",
    "* The quick brown fox jumps over the lazy dog.\n",
    "* the -1\n",
    "* the / the: 2 times (considering case-insensitive)\n",
    "'''\n",
    "quick: 1 time\n",
    "\n",
    "brown: 1 time\n",
    "\n",
    "fox: 1 time\n",
    "\n",
    "jumps: 1 time\n",
    "\n",
    "over: 1 time\n",
    "\n",
    "lazy: 1 time\n",
    "\n",
    "dog: 1 time\n",
    "\n",
    "'''"
   ]
  },
  {
   "cell_type": "code",
   "execution_count": 4,
   "id": "c42ecf78",
   "metadata": {},
   "outputs": [
    {
     "name": "stdout",
     "output_type": "stream",
     "text": [
      "[('jumps', 1), ('fox', 1), ('lazy', 1), ('dog.', 1), ('over', 1), ('quick', 1), ('the', 2), ('brown', 1)]\n"
     ]
    }
   ],
   "source": [
    "text= 'the quick brown fox jumps over the lazy dog.' #input (\"enter the sentense\")\n",
    "word_count= []\n",
    "all_words=text.split()\n",
    "unique_words=set(text.split())\n",
    "\n",
    "for text in  unique_words:\n",
    "   if text  in  all_words:\n",
    "     count = all_words.count(text)\n",
    "     word_count.append((text, count)) \n",
    "       \n",
    "     \n",
    "print(word_count)\n",
    "       "
   ]
  }
 ],
 "metadata": {
  "kernelspec": {
   "display_name": "Python 3",
   "language": "python",
   "name": "python3"
  },
  "language_info": {
   "codemirror_mode": {
    "name": "ipython",
    "version": 3
   },
   "file_extension": ".py",
   "mimetype": "text/x-python",
   "name": "python",
   "nbconvert_exporter": "python",
   "pygments_lexer": "ipython3",
   "version": "3.12.5"
  }
 },
 "nbformat": 4,
 "nbformat_minor": 5
}
