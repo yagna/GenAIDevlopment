{
 "cells": [
  {
   "cell_type": "code",
   "execution_count": 1,
   "id": "be4d2339",
   "metadata": {},
   "outputs": [],
   "source": [
    "class Point:\n",
    "    pass"
   ]
  },
  {
   "cell_type": "code",
   "execution_count": 2,
   "id": "6eb6fdab",
   "metadata": {},
   "outputs": [],
   "source": [
    "class Point:\n",
    "    def __init__(self,x:float,y=float|int):\n",
    "        self.x=x\n",
    "        self.y=y\n",
    "        \n",
    "\n",
    "    def __str__(self):\n",
    "      return f\"({self.x}, {self.y})\"\n",
    "    \n",
    "    @classmethod\n",
    "    def get_values(cls,x:int|float, y:int|float):\n",
    "       return Point(x,y)\n",
    "    @classmethod\n",
    "    def get_origin():\n",
    "       return Point(0,0)\n",
    "       \n",
    "    @staticmethod\n",
    "    def get_version():\n",
    "       return f\"v1\"   \n",
    "    "
   ]
  },
  {
   "cell_type": "code",
   "execution_count": null,
   "id": "6ebda7ae",
   "metadata": {},
   "outputs": [],
   "source": [
    "class BankAccount:\n",
    "    bank_name ='kotak'\n",
    "\n",
    "    def __init__(self,banknumber:int,aadhar:int,bal:float):\n",
    "        self.bank_number = banknumber\n",
    "        self.aadhar =aadhar\n",
    "        self.bal = bal\n",
    "        \n",
    "\n",
    "    def check_balance(self):\n",
    "        return f\"balance in your account{self.bal }\"\n",
    "    \n",
    "    "
   ]
  },
  {
   "cell_type": "code",
   "execution_count": 4,
   "id": "d12af15e",
   "metadata": {},
   "outputs": [
    {
     "data": {
      "text/plain": [
       "<bound method Point.get_origin of <class '__main__.Point'>>"
      ]
     },
     "execution_count": 4,
     "metadata": {},
     "output_type": "execute_result"
    }
   ],
   "source": [
    "p = Point(1,2)\n",
    "Point.get_version()\n",
    "Point.get_origin"
   ]
  },
  {
   "cell_type": "code",
   "execution_count": null,
   "id": "1ebc0f41",
   "metadata": {},
   "outputs": [],
   "source": [
    "class Animal:\n",
    "    \n",
    "    def shout(self):\n",
    "        return f\"i am animal\""
   ]
  },
  {
   "cell_type": "code",
   "execution_count": null,
   "id": "1fcc9f71",
   "metadata": {},
   "outputs": [],
   "source": [
    "class Dog(Animal):\n",
    "\n",
    "    def shout(self):\n",
    "        return f\"Baag .............\""
   ]
  },
  {
   "cell_type": "code",
   "execution_count": null,
   "id": "843a6711",
   "metadata": {},
   "outputs": [],
   "source": [
    "class Fox(Animal):\n",
    "\n",
    "    def shout(self):\n",
    "        return f\"whooooooooo >>>>>\""
   ]
  },
  {
   "cell_type": "code",
   "execution_count": 14,
   "id": "c24f5364",
   "metadata": {},
   "outputs": [
    {
     "data": {
      "text/plain": [
       "'Baag .............'"
      ]
     },
     "execution_count": 14,
     "metadata": {},
     "output_type": "execute_result"
    }
   ],
   "source": [
    "\n",
    "\n",
    "fox=Fox()\n",
    "fox.shout()\n",
    "\n",
    "dog= Dog()\n",
    "dog.shout()"
   ]
  }
 ],
 "metadata": {
  "kernelspec": {
   "display_name": "Python 3",
   "language": "python",
   "name": "python3"
  },
  "language_info": {
   "codemirror_mode": {
    "name": "ipython",
    "version": 3
   },
   "file_extension": ".py",
   "mimetype": "text/x-python",
   "name": "python",
   "nbconvert_exporter": "python",
   "pygments_lexer": "ipython3",
   "version": "3.12.5"
  }
 },
 "nbformat": 4,
 "nbformat_minor": 5
}
