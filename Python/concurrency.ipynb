{
 "cells": [
  {
   "cell_type": "code",
   "execution_count": 5,
   "id": "e8f75396",
   "metadata": {},
   "outputs": [],
   "source": [
    "import time\n",
    "\n",
    "def task(name:str) -> None:\n",
    "    print(f\"start {name}\")\n",
    "    time.sleep(3)\n",
    "    print(f\"end {name}\")\n",
    "\n",
    "def main():\n",
    "    for index in range(3):\n",
    "     task(f\"task -{index}\")\n"
   ]
  },
  {
   "cell_type": "code",
   "execution_count": null,
   "id": "96800615",
   "metadata": {},
   "outputs": [],
   "source": [
    "main()"
   ]
  },
  {
   "cell_type": "code",
   "execution_count": 7,
   "id": "539a0129",
   "metadata": {},
   "outputs": [
    {
     "name": "stdout",
     "output_type": "stream",
     "text": [
      "start task -0\n",
      "end task -0\n",
      "start task -1\n",
      "end task -1\n",
      "start task -2\n",
      "end task -2\n"
     ]
    },
    {
     "data": {
      "text/plain": [
       "9.003765600005863"
      ]
     },
     "execution_count": 7,
     "metadata": {},
     "output_type": "execute_result"
    }
   ],
   "source": [
    "import timeit\n",
    "\n",
    "setup_code = \"from __main__ import main\"\n",
    "\n",
    "# 2. Statement code: Call the function\n",
    "statement_code = \"main()\"\n",
    "\n",
    "total_time = timeit.timeit(\n",
    "    stmt=statement_code,\n",
    "    setup=setup_code,\n",
    "    number=1\n",
    ")\n",
    "total_time"
   ]
  },
  {
   "cell_type": "code",
   "execution_count": 9,
   "id": "d36fe325",
   "metadata": {},
   "outputs": [],
   "source": [
    "import threading\n",
    "\n",
    "def task(name: str) -> None:\n",
    "    print(f\"Start {name}\")\n",
    "    time.sleep(2)\n",
    "    print(f\"End {name}\")\n",
    "\n",
    "def thread_main():\n",
    "    threads = []\n",
    "    for index in range(3):\n",
    "        t = threading.Thread(target=task, args=(f\"task-{index}\",))\n",
    "        t.start()\n",
    "        threads.append(t)\n",
    "\n",
    "    for t in threads:\n",
    "        t.join()"
   ]
  },
  {
   "cell_type": "code",
   "execution_count": null,
   "id": "a4f6555a",
   "metadata": {},
   "outputs": [],
   "source": [
    "thread_main()"
   ]
  },
  {
   "cell_type": "code",
   "execution_count": null,
   "id": "d8a2fb5d",
   "metadata": {},
   "outputs": [],
   "source": [
    "import timeit\n",
    "\n",
    "setup_code = \"from __main__ import thread_main\"\n",
    "\n",
    "# 2. Statement code: Call the function\n",
    "statement_code = \"thread_main()\"\n",
    "\n",
    "total_time = timeit.timeit(\n",
    "    stmt=statement_code,\n",
    "    setup=setup_code,\n",
    "    number=1\n",
    ")\n",
    "total_time"
   ]
  },
  {
   "cell_type": "code",
   "execution_count": 13,
   "id": "c080049f",
   "metadata": {},
   "outputs": [],
   "source": [
    "from concurrent.futures import ThreadPoolExecutor\n",
    "def threadpool_main():\n",
    "    with ThreadPoolExecutor(max_workers=3) as ex:\n",
    "        results = list(ex.map(task, range(3)))\n",
    "    print(results)"
   ]
  },
  {
   "cell_type": "code",
   "execution_count": null,
   "id": "11d46c83",
   "metadata": {},
   "outputs": [],
   "source": [
    "import timeit\n",
    "\n",
    "setup_code = \"from __main__ import threadpool_main\"\n",
    "\n",
    "# 2. Statement code: Call the function\n",
    "statement_code = \"threadpool_main()\"\n",
    "\n",
    "total_time = timeit.timeit(\n",
    "    stmt=statement_code,\n",
    "    setup=setup_code,\n",
    "    number=1\n",
    ")\n",
    "total_time"
   ]
  },
  {
   "cell_type": "code",
   "execution_count": 15,
   "id": "89bc2e07",
   "metadata": {},
   "outputs": [
    {
     "name": "stdout",
     "output_type": "stream",
     "text": [
      "2025-10-25 14:35:56.424197\n",
      "Start 0\n",
      "Start 1\n",
      "Start 2\n",
      "End 0\n",
      "End 1\n",
      "End 2\n",
      "[None, None, None]\n",
      "2025-10-25 14:35:58.444027\n"
     ]
    }
   ],
   "source": [
    "# non blocking\n",
    "import asyncio, random\n",
    "import datetime\n",
    "async def task(i):\n",
    "    print(f\"Start {i}\")\n",
    "    await asyncio.sleep(2)\n",
    "    print(f\"End {i}\")\n",
    "\n",
    "async def amain():\n",
    "    results = await asyncio.gather(*(task(i) for i in range(3)))\n",
    "    print(results)\n",
    "\n",
    "#asyncio.run(amain())\n",
    "print(datetime.datetime.now())\n",
    "await amain()\n",
    "print(datetime.datetime.now())\n"
   ]
  },
  {
   "cell_type": "code",
   "execution_count": 16,
   "id": "2a9da7bf",
   "metadata": {},
   "outputs": [
    {
     "name": "stdout",
     "output_type": "stream",
     "text": [
      "2025-10-25 14:36:39.577687\n",
      "start 4\n",
      "s = 21081849486.442493\n",
      "End 4\n",
      "2025-10-25 14:36:40.865497\n"
     ]
    }
   ],
   "source": [
    "import math\n",
    "def cpu_bound(n):\n",
    "    print(f\"start {n}\")\n",
    "    s = sum(math.sqrt(i) for i in range(10000000))\n",
    "    print(f\"s = {s}\")\n",
    "    print(f\"End {n}\")\n",
    "    return n\n",
    "\n",
    "print(datetime.datetime.now())\n",
    "cpu_bound(4)\n",
    "print(datetime.datetime.now())"
   ]
  }
 ],
 "metadata": {
  "kernelspec": {
   "display_name": "Python 3",
   "language": "python",
   "name": "python3"
  },
  "language_info": {
   "codemirror_mode": {
    "name": "ipython",
    "version": 3
   },
   "file_extension": ".py",
   "mimetype": "text/x-python",
   "name": "python",
   "nbconvert_exporter": "python",
   "pygments_lexer": "ipython3",
   "version": "3.12.9"
  }
 },
 "nbformat": 4,
 "nbformat_minor": 5
}
