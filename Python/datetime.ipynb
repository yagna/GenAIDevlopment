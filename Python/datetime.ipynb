{
 "cells": [
  {
   "cell_type": "markdown",
   "id": "39e61981",
   "metadata": {},
   "source": [
    "# Date Time Hnadling In python\n",
    "\n",
    "* Basic Date and Time Hnadling\n",
    "* Delaing with Timezones\n",
    "* Formating Date time \n",
    "\n"
   ]
  },
  {
   "cell_type": "code",
   "execution_count": 15,
   "id": "0260de72",
   "metadata": {},
   "outputs": [
    {
     "data": {
      "text/plain": [
       "datetime.datetime(2025, 9, 10, 16, 0)"
      ]
     },
     "execution_count": 15,
     "metadata": {},
     "output_type": "execute_result"
    }
   ],
   "source": [
    "from datetime import datetime,date, time\n",
    "\n",
    "datetime.now()\n",
    "dt = date(2025,10,9)\n",
    "dt.strftime(\"%A\")\n",
    "\n",
    "x = time(hour=8,minute=28)\n",
    "#str(x)\n",
    "\n",
    "#print(str(datetime.utcnow))\n",
    "\n",
    "#datetime.datetime(2025,10,10)\n",
    "\n",
    "when_in_strg = \"10-09-2025 16:00:00\"\n",
    "datetime.strptime(when_in_strg , \"%d-%m-%Y %H:%M:%S\")\n"
   ]
  }
 ],
 "metadata": {
  "kernelspec": {
   "display_name": "base",
   "language": "python",
   "name": "python3"
  },
  "language_info": {
   "codemirror_mode": {
    "name": "ipython",
    "version": 3
   },
   "file_extension": ".py",
   "mimetype": "text/x-python",
   "name": "python",
   "nbconvert_exporter": "python",
   "pygments_lexer": "ipython3",
   "version": "3.12.2"
  }
 },
 "nbformat": 4,
 "nbformat_minor": 5
}
