{
 "cells": [
  {
   "cell_type": "markdown",
   "metadata": {},
   "source": [
    "# Create files and do operations\n",
    "  \n",
    "  * open file files and  write to files append"
   ]
  },
  {
   "cell_type": "code",
   "execution_count": 2,
   "metadata": {},
   "outputs": [],
   "source": [
    "from dataclasses import dataclass\n",
    "\n",
    "@dataclass\n",
    "class Prodcut:\n",
    "    id: int\n",
    "    name: str\n",
    "\n",
    "    def __str__(self):\n",
    "       return f'{self.id},{self.name}'\n",
    "\n",
    "    @staticmethod\n",
    "    def get_heading():\n",
    "        return f\"id,name\\n\"\n",
    "\n",
    "\n",
    "\n",
    "   "
   ]
  },
  {
   "cell_type": "code",
   "execution_count": null,
   "metadata": {},
   "outputs": [],
   "source": [
    "mi_phone = Prodcut(1,\"mi6 pro\")\n",
    "mi_phone_pro = Prodcut(2,\"mi6-pro\")\n",
    "\n",
    "open()"
   ]
  }
 ],
 "metadata": {
  "kernelspec": {
   "display_name": "base",
   "language": "python",
   "name": "python3"
  },
  "language_info": {
   "codemirror_mode": {
    "name": "ipython",
    "version": 3
   },
   "file_extension": ".py",
   "mimetype": "text/x-python",
   "name": "python",
   "nbconvert_exporter": "python",
   "pygments_lexer": "ipython3",
   "version": "3.12.2"
  }
 },
 "nbformat": 4,
 "nbformat_minor": 5
}
