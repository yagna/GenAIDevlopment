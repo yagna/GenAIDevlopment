{
 "cells": [
  {
   "cell_type": "markdown",
   "id": "416ac773",
   "metadata": {
    "id": "416ac773"
   },
   "source": [
    "# Using CrewAI for Defining and Running AI Agents"
   ]
  },
  {
   "cell_type": "markdown",
   "id": "dbc18889",
   "metadata": {
    "id": "dbc18889"
   },
   "source": [
    "\n",
    "In this notebook, we will use **CrewAI**, a framework for defining and running AI agents for specific tasks. This notebook will guide you through setting up an agent, assigning a task, and running the process.\n",
    "\n",
    "## Steps Overview\n",
    "1. Define an Agent with a role, goal, and the LLM model it will use.\n",
    "2. Define a Task that associates a description and expected output to the agent.\n",
    "3. Initialize a Crew with the agent and task.\n",
    "4. Kickoff the Crew with an input query and observe the response.\n",
    "\n",
    "---\n",
    "### Prerequisites\n",
    "- Install the `crewai` library.\n",
    "- Obtain API keys for the LLM model you want to use (e.g., Groq or OpenAI).\n",
    "- Set up a Python environment with necessary dependencies.\n",
    "\n",
    "---\n",
    "### Code Walkthrough\n",
    "Below is the implementation to define and use an AI agent for answering queries.\n"
   ]
  },
  {
   "cell_type": "code",
   "execution_count": 2,
   "id": "fCQbzM4v7M9F",
   "metadata": {
    "colab": {
     "base_uri": "https://localhost:8080/"
    },
    "collapsed": true,
    "executionInfo": {
     "elapsed": 60184,
     "status": "ok",
     "timestamp": 1758346620229,
     "user": {
      "displayName": "K.V.S Dileep",
      "userId": "13075717717617965326"
     },
     "user_tz": -330
    },
    "id": "fCQbzM4v7M9F",
    "outputId": "d82478f0-4dfa-4762-9a24-0a34364c7973"
   },
   "outputs": [
    {
     "name": "stdout",
     "output_type": "stream",
     "text": [
      "Requirement already satisfied: crewai in c:\\python312\\lib\\site-packages (0.148.0)\n",
      "Requirement already satisfied: appdirs>=1.4.4 in c:\\python312\\lib\\site-packages (from crewai) (1.4.4)\n",
      "Requirement already satisfied: blinker>=1.9.0 in c:\\python312\\lib\\site-packages (from crewai) (1.9.0)\n",
      "Requirement already satisfied: chromadb>=0.5.23 in c:\\python312\\lib\\site-packages (from crewai) (1.1.1)\n",
      "Requirement already satisfied: click>=8.1.7 in c:\\python312\\lib\\site-packages (from crewai) (8.3.0)\n",
      "Requirement already satisfied: instructor>=1.3.3 in c:\\python312\\lib\\site-packages (from crewai) (1.6.3)\n",
      "Requirement already satisfied: json-repair==0.25.2 in c:\\python312\\lib\\site-packages (from crewai) (0.25.2)\n",
      "Requirement already satisfied: json5>=0.10.0 in c:\\python312\\lib\\site-packages (from crewai) (0.12.1)\n",
      "Requirement already satisfied: jsonref>=1.1.0 in c:\\python312\\lib\\site-packages (from crewai) (1.1.0)\n",
      "Requirement already satisfied: litellm==1.72.6 in c:\\python312\\lib\\site-packages (from crewai) (1.72.6)\n",
      "Requirement already satisfied: onnxruntime==1.22.0 in c:\\python312\\lib\\site-packages (from crewai) (1.22.0)\n",
      "Requirement already satisfied: openai>=1.13.3 in c:\\python312\\lib\\site-packages (from crewai) (1.109.1)\n",
      "Requirement already satisfied: openpyxl>=3.1.5 in c:\\python312\\lib\\site-packages (from crewai) (3.1.5)\n",
      "Requirement already satisfied: opentelemetry-api>=1.30.0 in c:\\python312\\lib\\site-packages (from crewai) (1.38.0)\n",
      "Requirement already satisfied: opentelemetry-exporter-otlp-proto-http>=1.30.0 in c:\\python312\\lib\\site-packages (from crewai) (1.38.0)\n",
      "Requirement already satisfied: opentelemetry-sdk>=1.30.0 in c:\\python312\\lib\\site-packages (from crewai) (1.38.0)\n",
      "Requirement already satisfied: pdfplumber>=0.11.4 in c:\\python312\\lib\\site-packages (from crewai) (0.11.7)\n",
      "Requirement already satisfied: pydantic>=2.4.2 in c:\\python312\\lib\\site-packages (from crewai) (2.12.2)\n",
      "Requirement already satisfied: pyjwt>=2.9.0 in c:\\python312\\lib\\site-packages (from crewai) (2.10.1)\n",
      "Requirement already satisfied: python-dotenv>=1.0.0 in c:\\python312\\lib\\site-packages (from crewai) (1.1.1)\n",
      "Requirement already satisfied: pyvis>=0.3.2 in c:\\python312\\lib\\site-packages (from crewai) (0.3.2)\n",
      "Requirement already satisfied: regex>=2024.9.11 in c:\\python312\\lib\\site-packages (from crewai) (2025.9.18)\n",
      "Requirement already satisfied: tokenizers>=0.20.3 in c:\\python312\\lib\\site-packages (from crewai) (0.22.1)\n",
      "Requirement already satisfied: tomli-w>=1.1.0 in c:\\python312\\lib\\site-packages (from crewai) (1.2.0)\n",
      "Requirement already satisfied: tomli>=2.0.2 in c:\\python312\\lib\\site-packages (from crewai) (2.3.0)\n",
      "Requirement already satisfied: uv>=0.4.25 in c:\\python312\\lib\\site-packages (from crewai) (0.9.3)\n",
      "Requirement already satisfied: aiohttp in c:\\python312\\lib\\site-packages (from litellm==1.72.6->crewai) (3.9.3)\n",
      "Requirement already satisfied: httpx>=0.23.0 in c:\\python312\\lib\\site-packages (from litellm==1.72.6->crewai) (0.28.1)\n",
      "Requirement already satisfied: importlib-metadata>=6.8.0 in c:\\python312\\lib\\site-packages (from litellm==1.72.6->crewai) (8.7.0)\n",
      "Requirement already satisfied: jinja2<4.0.0,>=3.1.2 in c:\\python312\\lib\\site-packages (from litellm==1.72.6->crewai) (3.1.6)\n",
      "Requirement already satisfied: jsonschema<5.0.0,>=4.22.0 in c:\\python312\\lib\\site-packages (from litellm==1.72.6->crewai) (4.25.1)\n",
      "Requirement already satisfied: tiktoken>=0.7.0 in c:\\python312\\lib\\site-packages (from litellm==1.72.6->crewai) (0.12.0)\n",
      "Requirement already satisfied: coloredlogs in c:\\python312\\lib\\site-packages (from onnxruntime==1.22.0->crewai) (15.0.1)\n",
      "Requirement already satisfied: flatbuffers in c:\\python312\\lib\\site-packages (from onnxruntime==1.22.0->crewai) (25.9.23)\n",
      "Requirement already satisfied: numpy>=1.21.6 in c:\\python312\\lib\\site-packages (from onnxruntime==1.22.0->crewai) (2.3.4)\n",
      "Requirement already satisfied: packaging in c:\\users\\sparityuser\\appdata\\roaming\\python\\python312\\site-packages (from onnxruntime==1.22.0->crewai) (25.0)\n",
      "Requirement already satisfied: protobuf in c:\\python312\\lib\\site-packages (from onnxruntime==1.22.0->crewai) (5.29.3)\n",
      "Requirement already satisfied: sympy in c:\\python312\\lib\\site-packages (from onnxruntime==1.22.0->crewai) (1.14.0)\n",
      "Requirement already satisfied: MarkupSafe>=2.0 in c:\\python312\\lib\\site-packages (from jinja2<4.0.0,>=3.1.2->litellm==1.72.6->crewai) (3.0.3)\n",
      "Requirement already satisfied: attrs>=22.2.0 in c:\\python312\\lib\\site-packages (from jsonschema<5.0.0,>=4.22.0->litellm==1.72.6->crewai) (25.4.0)\n",
      "Requirement already satisfied: jsonschema-specifications>=2023.03.6 in c:\\python312\\lib\\site-packages (from jsonschema<5.0.0,>=4.22.0->litellm==1.72.6->crewai) (2025.9.1)\n",
      "Requirement already satisfied: referencing>=0.28.4 in c:\\python312\\lib\\site-packages (from jsonschema<5.0.0,>=4.22.0->litellm==1.72.6->crewai) (0.37.0)\n",
      "Requirement already satisfied: rpds-py>=0.7.1 in c:\\python312\\lib\\site-packages (from jsonschema<5.0.0,>=4.22.0->litellm==1.72.6->crewai) (0.27.1)\n",
      "Requirement already satisfied: annotated-types>=0.6.0 in c:\\python312\\lib\\site-packages (from pydantic>=2.4.2->crewai) (0.7.0)\n",
      "Requirement already satisfied: pydantic-core==2.41.4 in c:\\python312\\lib\\site-packages (from pydantic>=2.4.2->crewai) (2.41.4)\n",
      "Requirement already satisfied: typing-extensions>=4.14.1 in c:\\python312\\lib\\site-packages (from pydantic>=2.4.2->crewai) (4.15.0)\n",
      "Requirement already satisfied: typing-inspection>=0.4.2 in c:\\python312\\lib\\site-packages (from pydantic>=2.4.2->crewai) (0.4.2)\n",
      "Requirement already satisfied: build>=1.0.3 in c:\\python312\\lib\\site-packages (from chromadb>=0.5.23->crewai) (1.3.0)\n",
      "Requirement already satisfied: pybase64>=1.4.1 in c:\\python312\\lib\\site-packages (from chromadb>=0.5.23->crewai) (1.4.2)\n",
      "Requirement already satisfied: uvicorn>=0.18.3 in c:\\python312\\lib\\site-packages (from uvicorn[standard]>=0.18.3->chromadb>=0.5.23->crewai) (0.37.0)\n",
      "Requirement already satisfied: posthog<6.0.0,>=2.4.0 in c:\\python312\\lib\\site-packages (from chromadb>=0.5.23->crewai) (5.4.0)\n",
      "Requirement already satisfied: opentelemetry-exporter-otlp-proto-grpc>=1.2.0 in c:\\python312\\lib\\site-packages (from chromadb>=0.5.23->crewai) (1.38.0)\n",
      "Requirement already satisfied: pypika>=0.48.9 in c:\\python312\\lib\\site-packages (from chromadb>=0.5.23->crewai) (0.48.9)\n",
      "Requirement already satisfied: tqdm>=4.65.0 in c:\\python312\\lib\\site-packages (from chromadb>=0.5.23->crewai) (4.67.1)\n",
      "Requirement already satisfied: overrides>=7.3.1 in c:\\python312\\lib\\site-packages (from chromadb>=0.5.23->crewai) (7.7.0)\n",
      "Requirement already satisfied: importlib-resources in c:\\python312\\lib\\site-packages (from chromadb>=0.5.23->crewai) (6.5.2)\n",
      "Requirement already satisfied: grpcio>=1.58.0 in c:\\python312\\lib\\site-packages (from chromadb>=0.5.23->crewai) (1.76.0)\n",
      "Requirement already satisfied: bcrypt>=4.0.1 in c:\\python312\\lib\\site-packages (from chromadb>=0.5.23->crewai) (5.0.0)\n",
      "Requirement already satisfied: typer>=0.9.0 in c:\\python312\\lib\\site-packages (from chromadb>=0.5.23->crewai) (0.19.2)\n",
      "Requirement already satisfied: kubernetes>=28.1.0 in c:\\python312\\lib\\site-packages (from chromadb>=0.5.23->crewai) (34.1.0)\n",
      "Requirement already satisfied: tenacity>=8.2.3 in c:\\python312\\lib\\site-packages (from chromadb>=0.5.23->crewai) (9.1.2)\n",
      "Requirement already satisfied: pyyaml>=6.0.0 in c:\\python312\\lib\\site-packages (from chromadb>=0.5.23->crewai) (6.0.3)\n",
      "Requirement already satisfied: mmh3>=4.0.1 in c:\\python312\\lib\\site-packages (from chromadb>=0.5.23->crewai) (5.2.0)\n",
      "Requirement already satisfied: orjson>=3.9.12 in c:\\python312\\lib\\site-packages (from chromadb>=0.5.23->crewai) (3.11.3)\n",
      "Requirement already satisfied: rich>=10.11.0 in c:\\python312\\lib\\site-packages (from chromadb>=0.5.23->crewai) (13.9.4)\n",
      "Requirement already satisfied: requests<3.0,>=2.7 in c:\\python312\\lib\\site-packages (from posthog<6.0.0,>=2.4.0->chromadb>=0.5.23->crewai) (2.31.0)\n",
      "Requirement already satisfied: six>=1.5 in c:\\users\\sparityuser\\appdata\\roaming\\python\\python312\\site-packages (from posthog<6.0.0,>=2.4.0->chromadb>=0.5.23->crewai) (1.17.0)\n",
      "Requirement already satisfied: python-dateutil>=2.2 in c:\\users\\sparityuser\\appdata\\roaming\\python\\python312\\site-packages (from posthog<6.0.0,>=2.4.0->chromadb>=0.5.23->crewai) (2.9.0.post0)\n",
      "Requirement already satisfied: backoff>=1.10.0 in c:\\python312\\lib\\site-packages (from posthog<6.0.0,>=2.4.0->chromadb>=0.5.23->crewai) (2.2.1)\n",
      "Requirement already satisfied: distro>=1.5.0 in c:\\python312\\lib\\site-packages (from posthog<6.0.0,>=2.4.0->chromadb>=0.5.23->crewai) (1.9.0)\n",
      "Requirement already satisfied: charset-normalizer<4,>=2 in c:\\python312\\lib\\site-packages (from requests<3.0,>=2.7->posthog<6.0.0,>=2.4.0->chromadb>=0.5.23->crewai) (3.4.4)\n",
      "Requirement already satisfied: idna<4,>=2.5 in c:\\python312\\lib\\site-packages (from requests<3.0,>=2.7->posthog<6.0.0,>=2.4.0->chromadb>=0.5.23->crewai) (3.11)\n",
      "Requirement already satisfied: urllib3<3,>=1.21.1 in c:\\python312\\lib\\site-packages (from requests<3.0,>=2.7->posthog<6.0.0,>=2.4.0->chromadb>=0.5.23->crewai) (2.3.0)\n",
      "Requirement already satisfied: certifi>=2017.4.17 in c:\\python312\\lib\\site-packages (from requests<3.0,>=2.7->posthog<6.0.0,>=2.4.0->chromadb>=0.5.23->crewai) (2025.10.5)\n",
      "Requirement already satisfied: pyproject_hooks in c:\\python312\\lib\\site-packages (from build>=1.0.3->chromadb>=0.5.23->crewai) (1.2.0)\n",
      "Requirement already satisfied: colorama in c:\\users\\sparityuser\\appdata\\roaming\\python\\python312\\site-packages (from build>=1.0.3->chromadb>=0.5.23->crewai) (0.4.6)\n",
      "Requirement already satisfied: anyio in c:\\python312\\lib\\site-packages (from httpx>=0.23.0->litellm==1.72.6->crewai) (4.11.0)\n",
      "Requirement already satisfied: httpcore==1.* in c:\\python312\\lib\\site-packages (from httpx>=0.23.0->litellm==1.72.6->crewai) (1.0.9)\n",
      "Requirement already satisfied: h11>=0.16 in c:\\python312\\lib\\site-packages (from httpcore==1.*->httpx>=0.23.0->litellm==1.72.6->crewai) (0.16.0)\n",
      "Requirement already satisfied: zipp>=3.20 in c:\\python312\\lib\\site-packages (from importlib-metadata>=6.8.0->litellm==1.72.6->crewai) (3.23.0)\n",
      "Requirement already satisfied: docstring-parser<0.17,>=0.16 in c:\\python312\\lib\\site-packages (from instructor>=1.3.3->crewai) (0.16)\n",
      "Requirement already satisfied: jiter<0.6.0,>=0.5.0 in c:\\python312\\lib\\site-packages (from instructor>=1.3.3->crewai) (0.5.0)\n",
      "Requirement already satisfied: aiosignal>=1.1.2 in c:\\python312\\lib\\site-packages (from aiohttp->litellm==1.72.6->crewai) (1.4.0)\n",
      "Requirement already satisfied: frozenlist>=1.1.1 in c:\\python312\\lib\\site-packages (from aiohttp->litellm==1.72.6->crewai) (1.8.0)\n",
      "Requirement already satisfied: multidict<7.0,>=4.5 in c:\\python312\\lib\\site-packages (from aiohttp->litellm==1.72.6->crewai) (6.7.0)\n",
      "Requirement already satisfied: yarl<2.0,>=1.0 in c:\\python312\\lib\\site-packages (from aiohttp->litellm==1.72.6->crewai) (1.22.0)\n",
      "Requirement already satisfied: sniffio in c:\\python312\\lib\\site-packages (from openai>=1.13.3->crewai) (1.3.1)\n",
      "Requirement already satisfied: markdown-it-py>=2.2.0 in c:\\python312\\lib\\site-packages (from rich>=10.11.0->chromadb>=0.5.23->crewai) (4.0.0)\n",
      "Requirement already satisfied: pygments<3.0.0,>=2.13.0 in c:\\users\\sparityuser\\appdata\\roaming\\python\\python312\\site-packages (from rich>=10.11.0->chromadb>=0.5.23->crewai) (2.19.2)\n",
      "Requirement already satisfied: shellingham>=1.3.0 in c:\\python312\\lib\\site-packages (from typer>=0.9.0->chromadb>=0.5.23->crewai) (1.5.4)\n",
      "Requirement already satisfied: propcache>=0.2.1 in c:\\python312\\lib\\site-packages (from yarl<2.0,>=1.0->aiohttp->litellm==1.72.6->crewai) (0.4.1)\n",
      "Requirement already satisfied: google-auth>=1.0.1 in c:\\python312\\lib\\site-packages (from kubernetes>=28.1.0->chromadb>=0.5.23->crewai) (2.41.1)\n",
      "Requirement already satisfied: websocket-client!=0.40.0,!=0.41.*,!=0.42.*,>=0.32.0 in c:\\python312\\lib\\site-packages (from kubernetes>=28.1.0->chromadb>=0.5.23->crewai) (1.6.1)\n",
      "Requirement already satisfied: requests-oauthlib in c:\\python312\\lib\\site-packages (from kubernetes>=28.1.0->chromadb>=0.5.23->crewai) (2.0.0)\n",
      "Requirement already satisfied: durationpy>=0.7 in c:\\python312\\lib\\site-packages (from kubernetes>=28.1.0->chromadb>=0.5.23->crewai) (0.10)\n",
      "Requirement already satisfied: cachetools<7.0,>=2.0.0 in c:\\python312\\lib\\site-packages (from google-auth>=1.0.1->kubernetes>=28.1.0->chromadb>=0.5.23->crewai) (6.2.1)\n",
      "Requirement already satisfied: pyasn1-modules>=0.2.1 in c:\\python312\\lib\\site-packages (from google-auth>=1.0.1->kubernetes>=28.1.0->chromadb>=0.5.23->crewai) (0.4.2)\n",
      "Requirement already satisfied: rsa<5,>=3.1.4 in c:\\python312\\lib\\site-packages (from google-auth>=1.0.1->kubernetes>=28.1.0->chromadb>=0.5.23->crewai) (4.9.1)\n",
      "Requirement already satisfied: pyasn1>=0.1.3 in c:\\python312\\lib\\site-packages (from rsa<5,>=3.1.4->google-auth>=1.0.1->kubernetes>=28.1.0->chromadb>=0.5.23->crewai) (0.6.1)\n",
      "Requirement already satisfied: mdurl~=0.1 in c:\\python312\\lib\\site-packages (from markdown-it-py>=2.2.0->rich>=10.11.0->chromadb>=0.5.23->crewai) (0.1.2)\n",
      "Requirement already satisfied: et-xmlfile in c:\\python312\\lib\\site-packages (from openpyxl>=3.1.5->crewai) (2.0.0)\n",
      "Requirement already satisfied: googleapis-common-protos~=1.57 in c:\\python312\\lib\\site-packages (from opentelemetry-exporter-otlp-proto-grpc>=1.2.0->chromadb>=0.5.23->crewai) (1.70.0)\n",
      "Requirement already satisfied: opentelemetry-exporter-otlp-proto-common==1.38.0 in c:\\python312\\lib\\site-packages (from opentelemetry-exporter-otlp-proto-grpc>=1.2.0->chromadb>=0.5.23->crewai) (1.38.0)\n",
      "Requirement already satisfied: opentelemetry-proto==1.38.0 in c:\\python312\\lib\\site-packages (from opentelemetry-exporter-otlp-proto-grpc>=1.2.0->chromadb>=0.5.23->crewai) (1.38.0)\n",
      "Requirement already satisfied: opentelemetry-semantic-conventions==0.59b0 in c:\\python312\\lib\\site-packages (from opentelemetry-sdk>=1.30.0->crewai) (0.59b0)\n",
      "Requirement already satisfied: pdfminer.six==20250506 in c:\\python312\\lib\\site-packages (from pdfplumber>=0.11.4->crewai) (20250506)\n",
      "Requirement already satisfied: Pillow>=9.1 in c:\\python312\\lib\\site-packages (from pdfplumber>=0.11.4->crewai) (12.0.0)\n",
      "Requirement already satisfied: pypdfium2>=4.18.0 in c:\\python312\\lib\\site-packages (from pdfplumber>=0.11.4->crewai) (4.30.0)\n",
      "Requirement already satisfied: cryptography>=36.0.0 in c:\\python312\\lib\\site-packages (from pdfminer.six==20250506->pdfplumber>=0.11.4->crewai) (44.0.3)\n",
      "Requirement already satisfied: cffi>=1.12 in c:\\python312\\lib\\site-packages (from cryptography>=36.0.0->pdfminer.six==20250506->pdfplumber>=0.11.4->crewai) (2.0.0)\n",
      "Requirement already satisfied: pycparser in c:\\python312\\lib\\site-packages (from cffi>=1.12->cryptography>=36.0.0->pdfminer.six==20250506->pdfplumber>=0.11.4->crewai) (2.23)\n",
      "Requirement already satisfied: ipython>=5.3.0 in c:\\users\\sparityuser\\appdata\\roaming\\python\\python312\\site-packages (from pyvis>=0.3.2->crewai) (9.6.0)\n",
      "Requirement already satisfied: jsonpickle>=1.4.1 in c:\\python312\\lib\\site-packages (from pyvis>=0.3.2->crewai) (4.1.1)\n",
      "Requirement already satisfied: networkx>=1.11 in c:\\python312\\lib\\site-packages (from pyvis>=0.3.2->crewai) (3.5)\n",
      "Requirement already satisfied: decorator in c:\\users\\sparityuser\\appdata\\roaming\\python\\python312\\site-packages (from ipython>=5.3.0->pyvis>=0.3.2->crewai) (5.2.1)\n",
      "Requirement already satisfied: ipython-pygments-lexers in c:\\users\\sparityuser\\appdata\\roaming\\python\\python312\\site-packages (from ipython>=5.3.0->pyvis>=0.3.2->crewai) (1.1.1)\n",
      "Requirement already satisfied: jedi>=0.16 in c:\\users\\sparityuser\\appdata\\roaming\\python\\python312\\site-packages (from ipython>=5.3.0->pyvis>=0.3.2->crewai) (0.19.2)\n",
      "Requirement already satisfied: matplotlib-inline in c:\\users\\sparityuser\\appdata\\roaming\\python\\python312\\site-packages (from ipython>=5.3.0->pyvis>=0.3.2->crewai) (0.1.7)\n",
      "Requirement already satisfied: prompt_toolkit<3.1.0,>=3.0.41 in c:\\users\\sparityuser\\appdata\\roaming\\python\\python312\\site-packages (from ipython>=5.3.0->pyvis>=0.3.2->crewai) (3.0.52)\n",
      "Requirement already satisfied: stack_data in c:\\users\\sparityuser\\appdata\\roaming\\python\\python312\\site-packages (from ipython>=5.3.0->pyvis>=0.3.2->crewai) (0.6.3)\n",
      "Requirement already satisfied: traitlets>=5.13.0 in c:\\users\\sparityuser\\appdata\\roaming\\python\\python312\\site-packages (from ipython>=5.3.0->pyvis>=0.3.2->crewai) (5.14.3)\n",
      "Requirement already satisfied: wcwidth in c:\\users\\sparityuser\\appdata\\roaming\\python\\python312\\site-packages (from prompt_toolkit<3.1.0,>=3.0.41->ipython>=5.3.0->pyvis>=0.3.2->crewai) (0.2.14)\n",
      "Requirement already satisfied: parso<0.9.0,>=0.8.4 in c:\\users\\sparityuser\\appdata\\roaming\\python\\python312\\site-packages (from jedi>=0.16->ipython>=5.3.0->pyvis>=0.3.2->crewai) (0.8.5)\n",
      "Requirement already satisfied: huggingface-hub<2.0,>=0.16.4 in c:\\python312\\lib\\site-packages (from tokenizers>=0.20.3->crewai) (0.35.3)\n",
      "Requirement already satisfied: filelock in c:\\python312\\lib\\site-packages (from huggingface-hub<2.0,>=0.16.4->tokenizers>=0.20.3->crewai) (3.20.0)\n",
      "Requirement already satisfied: fsspec>=2023.5.0 in c:\\python312\\lib\\site-packages (from huggingface-hub<2.0,>=0.16.4->tokenizers>=0.20.3->crewai) (2025.9.0)\n",
      "Requirement already satisfied: httptools>=0.6.3 in c:\\python312\\lib\\site-packages (from uvicorn[standard]>=0.18.3->chromadb>=0.5.23->crewai) (0.7.1)\n",
      "Requirement already satisfied: watchfiles>=0.13 in c:\\python312\\lib\\site-packages (from uvicorn[standard]>=0.18.3->chromadb>=0.5.23->crewai) (1.1.1)\n",
      "Requirement already satisfied: websockets>=10.4 in c:\\python312\\lib\\site-packages (from uvicorn[standard]>=0.18.3->chromadb>=0.5.23->crewai) (15.0.1)\n",
      "Requirement already satisfied: humanfriendly>=9.1 in c:\\python312\\lib\\site-packages (from coloredlogs->onnxruntime==1.22.0->crewai) (10.0)\n",
      "Requirement already satisfied: pyreadline3 in c:\\python312\\lib\\site-packages (from humanfriendly>=9.1->coloredlogs->onnxruntime==1.22.0->crewai) (3.5.4)\n",
      "Requirement already satisfied: oauthlib>=3.0.0 in c:\\python312\\lib\\site-packages (from requests-oauthlib->kubernetes>=28.1.0->chromadb>=0.5.23->crewai) (3.3.1)\n",
      "Requirement already satisfied: executing>=1.2.0 in c:\\users\\sparityuser\\appdata\\roaming\\python\\python312\\site-packages (from stack_data->ipython>=5.3.0->pyvis>=0.3.2->crewai) (2.2.1)\n",
      "Requirement already satisfied: asttokens>=2.1.0 in c:\\users\\sparityuser\\appdata\\roaming\\python\\python312\\site-packages (from stack_data->ipython>=5.3.0->pyvis>=0.3.2->crewai) (3.0.0)\n",
      "Requirement already satisfied: pure-eval in c:\\users\\sparityuser\\appdata\\roaming\\python\\python312\\site-packages (from stack_data->ipython>=5.3.0->pyvis>=0.3.2->crewai) (0.2.3)\n",
      "Requirement already satisfied: mpmath<1.4,>=1.1.0 in c:\\python312\\lib\\site-packages (from sympy->onnxruntime==1.22.0->crewai) (1.3.0)\n",
      "Requirement already satisfied: langchain_openai in c:\\python312\\lib\\site-packages (1.0.1)\n",
      "Collecting langchain-core<2.0.0,>=1.0.0 (from langchain_openai)\n",
      "  Downloading langchain_core-1.0.1-py3-none-any.whl.metadata (3.5 kB)\n",
      "Requirement already satisfied: openai<3.0.0,>=1.109.1 in c:\\python312\\lib\\site-packages (from langchain_openai) (1.109.1)\n",
      "Requirement already satisfied: tiktoken<1.0.0,>=0.7.0 in c:\\python312\\lib\\site-packages (from langchain_openai) (0.12.0)\n",
      "Requirement already satisfied: jsonpatch<2.0.0,>=1.33.0 in c:\\python312\\lib\\site-packages (from langchain-core<2.0.0,>=1.0.0->langchain_openai) (1.33)\n",
      "Requirement already satisfied: langsmith<1.0.0,>=0.3.45 in c:\\python312\\lib\\site-packages (from langchain-core<2.0.0,>=1.0.0->langchain_openai) (0.4.37)\n",
      "Requirement already satisfied: packaging<26.0.0,>=23.2.0 in c:\\users\\sparityuser\\appdata\\roaming\\python\\python312\\site-packages (from langchain-core<2.0.0,>=1.0.0->langchain_openai) (25.0)\n",
      "Requirement already satisfied: pydantic<3.0.0,>=2.7.4 in c:\\python312\\lib\\site-packages (from langchain-core<2.0.0,>=1.0.0->langchain_openai) (2.12.2)\n",
      "Requirement already satisfied: pyyaml<7.0.0,>=5.3.0 in c:\\python312\\lib\\site-packages (from langchain-core<2.0.0,>=1.0.0->langchain_openai) (6.0.3)\n",
      "Requirement already satisfied: tenacity!=8.4.0,<10.0.0,>=8.1.0 in c:\\python312\\lib\\site-packages (from langchain-core<2.0.0,>=1.0.0->langchain_openai) (9.1.2)\n",
      "Requirement already satisfied: typing-extensions<5.0.0,>=4.7.0 in c:\\python312\\lib\\site-packages (from langchain-core<2.0.0,>=1.0.0->langchain_openai) (4.15.0)\n",
      "Requirement already satisfied: jsonpointer>=1.9 in c:\\python312\\lib\\site-packages (from jsonpatch<2.0.0,>=1.33.0->langchain-core<2.0.0,>=1.0.0->langchain_openai) (3.0.0)\n",
      "Requirement already satisfied: httpx<1,>=0.23.0 in c:\\python312\\lib\\site-packages (from langsmith<1.0.0,>=0.3.45->langchain-core<2.0.0,>=1.0.0->langchain_openai) (0.28.1)\n",
      "Requirement already satisfied: orjson>=3.9.14 in c:\\python312\\lib\\site-packages (from langsmith<1.0.0,>=0.3.45->langchain-core<2.0.0,>=1.0.0->langchain_openai) (3.11.3)\n",
      "Requirement already satisfied: requests-toolbelt>=1.0.0 in c:\\python312\\lib\\site-packages (from langsmith<1.0.0,>=0.3.45->langchain-core<2.0.0,>=1.0.0->langchain_openai) (1.0.0)\n",
      "Requirement already satisfied: requests>=2.0.0 in c:\\python312\\lib\\site-packages (from langsmith<1.0.0,>=0.3.45->langchain-core<2.0.0,>=1.0.0->langchain_openai) (2.31.0)\n",
      "Requirement already satisfied: zstandard>=0.23.0 in c:\\python312\\lib\\site-packages (from langsmith<1.0.0,>=0.3.45->langchain-core<2.0.0,>=1.0.0->langchain_openai) (0.25.0)\n",
      "Requirement already satisfied: anyio in c:\\python312\\lib\\site-packages (from httpx<1,>=0.23.0->langsmith<1.0.0,>=0.3.45->langchain-core<2.0.0,>=1.0.0->langchain_openai) (4.11.0)\n",
      "Requirement already satisfied: certifi in c:\\python312\\lib\\site-packages (from httpx<1,>=0.23.0->langsmith<1.0.0,>=0.3.45->langchain-core<2.0.0,>=1.0.0->langchain_openai) (2025.10.5)\n",
      "Requirement already satisfied: httpcore==1.* in c:\\python312\\lib\\site-packages (from httpx<1,>=0.23.0->langsmith<1.0.0,>=0.3.45->langchain-core<2.0.0,>=1.0.0->langchain_openai) (1.0.9)\n",
      "Requirement already satisfied: idna in c:\\python312\\lib\\site-packages (from httpx<1,>=0.23.0->langsmith<1.0.0,>=0.3.45->langchain-core<2.0.0,>=1.0.0->langchain_openai) (3.11)\n",
      "Requirement already satisfied: h11>=0.16 in c:\\python312\\lib\\site-packages (from httpcore==1.*->httpx<1,>=0.23.0->langsmith<1.0.0,>=0.3.45->langchain-core<2.0.0,>=1.0.0->langchain_openai) (0.16.0)\n",
      "Requirement already satisfied: distro<2,>=1.7.0 in c:\\python312\\lib\\site-packages (from openai<3.0.0,>=1.109.1->langchain_openai) (1.9.0)\n",
      "Requirement already satisfied: jiter<1,>=0.4.0 in c:\\python312\\lib\\site-packages (from openai<3.0.0,>=1.109.1->langchain_openai) (0.5.0)\n",
      "Requirement already satisfied: sniffio in c:\\python312\\lib\\site-packages (from openai<3.0.0,>=1.109.1->langchain_openai) (1.3.1)\n",
      "Requirement already satisfied: tqdm>4 in c:\\python312\\lib\\site-packages (from openai<3.0.0,>=1.109.1->langchain_openai) (4.67.1)\n",
      "Requirement already satisfied: annotated-types>=0.6.0 in c:\\python312\\lib\\site-packages (from pydantic<3.0.0,>=2.7.4->langchain-core<2.0.0,>=1.0.0->langchain_openai) (0.7.0)\n",
      "Requirement already satisfied: pydantic-core==2.41.4 in c:\\python312\\lib\\site-packages (from pydantic<3.0.0,>=2.7.4->langchain-core<2.0.0,>=1.0.0->langchain_openai) (2.41.4)\n",
      "Requirement already satisfied: typing-inspection>=0.4.2 in c:\\python312\\lib\\site-packages (from pydantic<3.0.0,>=2.7.4->langchain-core<2.0.0,>=1.0.0->langchain_openai) (0.4.2)\n",
      "Requirement already satisfied: regex>=2022.1.18 in c:\\python312\\lib\\site-packages (from tiktoken<1.0.0,>=0.7.0->langchain_openai) (2025.9.18)\n",
      "Requirement already satisfied: charset-normalizer<4,>=2 in c:\\python312\\lib\\site-packages (from requests>=2.0.0->langsmith<1.0.0,>=0.3.45->langchain-core<2.0.0,>=1.0.0->langchain_openai) (3.4.4)\n",
      "Requirement already satisfied: urllib3<3,>=1.21.1 in c:\\python312\\lib\\site-packages (from requests>=2.0.0->langsmith<1.0.0,>=0.3.45->langchain-core<2.0.0,>=1.0.0->langchain_openai) (2.3.0)\n",
      "Requirement already satisfied: colorama in c:\\users\\sparityuser\\appdata\\roaming\\python\\python312\\site-packages (from tqdm>4->openai<3.0.0,>=1.109.1->langchain_openai) (0.4.6)\n",
      "Downloading langchain_core-1.0.1-py3-none-any.whl (467 kB)\n",
      "Installing collected packages: langchain-core\n",
      "  Attempting uninstall: langchain-core\n",
      "    Found existing installation: langchain-core 0.3.79\n",
      "    Uninstalling langchain-core-0.3.79:\n",
      "      Successfully uninstalled langchain-core-0.3.79\n",
      "Successfully installed langchain-core-1.0.1\n"
     ]
    },
    {
     "name": "stderr",
     "output_type": "stream",
     "text": [
      "ERROR: pip's dependency resolver does not currently take into account all the packages that are installed. This behaviour is the source of the following dependency conflicts.\n",
      "langchain 0.3.27 requires langchain-core<1.0.0,>=0.3.72, but you have langchain-core 1.0.1 which is incompatible.\n",
      "langchain-classic 1.0.0 requires langchain-text-splitters<2.0.0,>=1.0.0, but you have langchain-text-splitters 0.3.11 which is incompatible.\n",
      "langchain-community 0.4 requires requests<3.0.0,>=2.32.5, but you have requests 2.31.0 which is incompatible.\n",
      "langgraph-api 0.4.46 requires protobuf<7.0.0,>=6.32.1, but you have protobuf 5.29.3 which is incompatible.\n",
      "mailtoner 0.1.0 requires langchain[anthropic]>=1.0.2, but you have langchain 0.3.27 which is incompatible.\n",
      "ERROR: Could not find a version that satisfies the requirement google-colab (from versions: none)\n",
      "ERROR: No matching distribution found for google-colab\n"
     ]
    }
   ],
   "source": [
    "## initial setup for Colab.\n",
    "## if you are using this in local jupyter notebook, skip this cell\n",
    "!pip install crewai\n",
    "!pip install langchain_openai\n",
    "!pip install google-colab"
   ]
  },
  {
   "cell_type": "markdown",
   "id": "6c1e0e49",
   "metadata": {
    "id": "6c1e0e49"
   },
   "source": [
    "### Step 1: Define the Agent"
   ]
  },
  {
   "cell_type": "markdown",
   "id": "D740JYfiy2cd",
   "metadata": {
    "id": "D740JYfiy2cd"
   },
   "source": [
    "### Role"
   ]
  },
  {
   "cell_type": "code",
   "execution_count": 4,
   "id": "8a3fa9d5",
   "metadata": {
    "executionInfo": {
     "elapsed": 21201,
     "status": "ok",
     "timestamp": 1758346942336,
     "user": {
      "displayName": "K.V.S Dileep",
      "userId": "13075717717617965326"
     },
     "user_tz": -330
    },
    "id": "8a3fa9d5"
   },
   "outputs": [
    {
     "ename": "AttributeError",
     "evalue": "module aiohttp has no attribute ConnectionTimeoutError",
     "output_type": "error",
     "traceback": [
      "\u001b[31m---------------------------------------------------------------------------\u001b[39m",
      "\u001b[31mAttributeError\u001b[39m                            Traceback (most recent call last)",
      "\u001b[36mCell\u001b[39m\u001b[36m \u001b[39m\u001b[32mIn[4]\u001b[39m\u001b[32m, line 1\u001b[39m\n\u001b[32m----> \u001b[39m\u001b[32m1\u001b[39m \u001b[38;5;28;01mfrom\u001b[39;00m\u001b[38;5;250m \u001b[39m\u001b[34;01mcrewai\u001b[39;00m\u001b[38;5;250m \u001b[39m\u001b[38;5;28;01mimport\u001b[39;00m Agent\n\u001b[32m      2\u001b[39m \u001b[38;5;28;01mfrom\u001b[39;00m\u001b[38;5;250m \u001b[39m\u001b[34;01mlangchain_openai\u001b[39;00m\u001b[38;5;250m \u001b[39m\u001b[38;5;28;01mimport\u001b[39;00m ChatOpenAI\n\u001b[32m      4\u001b[39m \u001b[38;5;66;03m# First, set up your OpenAI API key\u001b[39;00m\n",
      "\u001b[36mFile \u001b[39m\u001b[32mc:\\python312\\Lib\\site-packages\\crewai\\__init__.py:5\u001b[39m\n\u001b[32m      2\u001b[39m \u001b[38;5;28;01mimport\u001b[39;00m\u001b[38;5;250m \u001b[39m\u001b[34;01mthreading\u001b[39;00m\n\u001b[32m      3\u001b[39m \u001b[38;5;28;01mimport\u001b[39;00m\u001b[38;5;250m \u001b[39m\u001b[34;01murllib\u001b[39;00m\u001b[34;01m.\u001b[39;00m\u001b[34;01mrequest\u001b[39;00m\n\u001b[32m----> \u001b[39m\u001b[32m5\u001b[39m \u001b[38;5;28;01mfrom\u001b[39;00m\u001b[38;5;250m \u001b[39m\u001b[34;01mcrewai\u001b[39;00m\u001b[34;01m.\u001b[39;00m\u001b[34;01magent\u001b[39;00m\u001b[38;5;250m \u001b[39m\u001b[38;5;28;01mimport\u001b[39;00m Agent\n\u001b[32m      6\u001b[39m \u001b[38;5;28;01mfrom\u001b[39;00m\u001b[38;5;250m \u001b[39m\u001b[34;01mcrewai\u001b[39;00m\u001b[34;01m.\u001b[39;00m\u001b[34;01mcrew\u001b[39;00m\u001b[38;5;250m \u001b[39m\u001b[38;5;28;01mimport\u001b[39;00m Crew\n\u001b[32m      7\u001b[39m \u001b[38;5;28;01mfrom\u001b[39;00m\u001b[38;5;250m \u001b[39m\u001b[34;01mcrewai\u001b[39;00m\u001b[34;01m.\u001b[39;00m\u001b[34;01mcrews\u001b[39;00m\u001b[34;01m.\u001b[39;00m\u001b[34;01mcrew_output\u001b[39;00m\u001b[38;5;250m \u001b[39m\u001b[38;5;28;01mimport\u001b[39;00m CrewOutput\n",
      "\u001b[36mFile \u001b[39m\u001b[32mc:\\python312\\Lib\\site-packages\\crewai\\agent.py:10\u001b[39m\n\u001b[32m      8\u001b[39m \u001b[38;5;28;01mfrom\u001b[39;00m\u001b[38;5;250m \u001b[39m\u001b[34;01mcrewai\u001b[39;00m\u001b[34;01m.\u001b[39;00m\u001b[34;01magents\u001b[39;00m\u001b[38;5;250m \u001b[39m\u001b[38;5;28;01mimport\u001b[39;00m CacheHandler\n\u001b[32m      9\u001b[39m \u001b[38;5;28;01mfrom\u001b[39;00m\u001b[38;5;250m \u001b[39m\u001b[34;01mcrewai\u001b[39;00m\u001b[34;01m.\u001b[39;00m\u001b[34;01magents\u001b[39;00m\u001b[34;01m.\u001b[39;00m\u001b[34;01magent_builder\u001b[39;00m\u001b[34;01m.\u001b[39;00m\u001b[34;01mbase_agent\u001b[39;00m\u001b[38;5;250m \u001b[39m\u001b[38;5;28;01mimport\u001b[39;00m BaseAgent\n\u001b[32m---> \u001b[39m\u001b[32m10\u001b[39m \u001b[38;5;28;01mfrom\u001b[39;00m\u001b[38;5;250m \u001b[39m\u001b[34;01mcrewai\u001b[39;00m\u001b[34;01m.\u001b[39;00m\u001b[34;01magents\u001b[39;00m\u001b[34;01m.\u001b[39;00m\u001b[34;01mcrew_agent_executor\u001b[39;00m\u001b[38;5;250m \u001b[39m\u001b[38;5;28;01mimport\u001b[39;00m CrewAgentExecutor\n\u001b[32m     11\u001b[39m \u001b[38;5;28;01mfrom\u001b[39;00m\u001b[38;5;250m \u001b[39m\u001b[34;01mcrewai\u001b[39;00m\u001b[34;01m.\u001b[39;00m\u001b[34;01mknowledge\u001b[39;00m\u001b[34;01m.\u001b[39;00m\u001b[34;01mknowledge\u001b[39;00m\u001b[38;5;250m \u001b[39m\u001b[38;5;28;01mimport\u001b[39;00m Knowledge\n\u001b[32m     12\u001b[39m \u001b[38;5;28;01mfrom\u001b[39;00m\u001b[38;5;250m \u001b[39m\u001b[34;01mcrewai\u001b[39;00m\u001b[34;01m.\u001b[39;00m\u001b[34;01mknowledge\u001b[39;00m\u001b[34;01m.\u001b[39;00m\u001b[34;01msource\u001b[39;00m\u001b[34;01m.\u001b[39;00m\u001b[34;01mbase_knowledge_source\u001b[39;00m\u001b[38;5;250m \u001b[39m\u001b[38;5;28;01mimport\u001b[39;00m BaseKnowledgeSource\n",
      "\u001b[36mFile \u001b[39m\u001b[32mc:\\python312\\Lib\\site-packages\\crewai\\agents\\crew_agent_executor.py:4\u001b[39m\n\u001b[32m      1\u001b[39m \u001b[38;5;28;01mfrom\u001b[39;00m\u001b[38;5;250m \u001b[39m\u001b[34;01mtyping\u001b[39;00m\u001b[38;5;250m \u001b[39m\u001b[38;5;28;01mimport\u001b[39;00m Any, Callable, Dict, List, Optional, Union\n\u001b[32m      3\u001b[39m \u001b[38;5;28;01mfrom\u001b[39;00m\u001b[38;5;250m \u001b[39m\u001b[34;01mcrewai\u001b[39;00m\u001b[34;01m.\u001b[39;00m\u001b[34;01magents\u001b[39;00m\u001b[34;01m.\u001b[39;00m\u001b[34;01magent_builder\u001b[39;00m\u001b[34;01m.\u001b[39;00m\u001b[34;01mbase_agent\u001b[39;00m\u001b[38;5;250m \u001b[39m\u001b[38;5;28;01mimport\u001b[39;00m BaseAgent\n\u001b[32m----> \u001b[39m\u001b[32m4\u001b[39m \u001b[38;5;28;01mfrom\u001b[39;00m\u001b[38;5;250m \u001b[39m\u001b[34;01mcrewai\u001b[39;00m\u001b[34;01m.\u001b[39;00m\u001b[34;01magents\u001b[39;00m\u001b[34;01m.\u001b[39;00m\u001b[34;01magent_builder\u001b[39;00m\u001b[34;01m.\u001b[39;00m\u001b[34;01mbase_agent_executor_mixin\u001b[39;00m\u001b[38;5;250m \u001b[39m\u001b[38;5;28;01mimport\u001b[39;00m CrewAgentExecutorMixin\n\u001b[32m      5\u001b[39m \u001b[38;5;28;01mfrom\u001b[39;00m\u001b[38;5;250m \u001b[39m\u001b[34;01mcrewai\u001b[39;00m\u001b[34;01m.\u001b[39;00m\u001b[34;01magents\u001b[39;00m\u001b[34;01m.\u001b[39;00m\u001b[34;01mparser\u001b[39;00m\u001b[38;5;250m \u001b[39m\u001b[38;5;28;01mimport\u001b[39;00m (\n\u001b[32m      6\u001b[39m     AgentAction,\n\u001b[32m      7\u001b[39m     AgentFinish,\n\u001b[32m      8\u001b[39m     OutputParserException,\n\u001b[32m      9\u001b[39m )\n\u001b[32m     10\u001b[39m \u001b[38;5;28;01mfrom\u001b[39;00m\u001b[38;5;250m \u001b[39m\u001b[34;01mcrewai\u001b[39;00m\u001b[34;01m.\u001b[39;00m\u001b[34;01magents\u001b[39;00m\u001b[34;01m.\u001b[39;00m\u001b[34;01mtools_handler\u001b[39;00m\u001b[38;5;250m \u001b[39m\u001b[38;5;28;01mimport\u001b[39;00m ToolsHandler\n",
      "\u001b[36mFile \u001b[39m\u001b[32mc:\\python312\\Lib\\site-packages\\crewai\\agents\\agent_builder\\base_agent_executor_mixin.py:8\u001b[39m\n\u001b[32m      6\u001b[39m \u001b[38;5;28;01mfrom\u001b[39;00m\u001b[38;5;250m \u001b[39m\u001b[34;01mcrewai\u001b[39;00m\u001b[34;01m.\u001b[39;00m\u001b[34;01mutilities\u001b[39;00m\u001b[38;5;250m \u001b[39m\u001b[38;5;28;01mimport\u001b[39;00m I18N\n\u001b[32m      7\u001b[39m \u001b[38;5;28;01mfrom\u001b[39;00m\u001b[38;5;250m \u001b[39m\u001b[34;01mcrewai\u001b[39;00m\u001b[34;01m.\u001b[39;00m\u001b[34;01mutilities\u001b[39;00m\u001b[34;01m.\u001b[39;00m\u001b[34;01mconverter\u001b[39;00m\u001b[38;5;250m \u001b[39m\u001b[38;5;28;01mimport\u001b[39;00m ConverterError\n\u001b[32m----> \u001b[39m\u001b[32m8\u001b[39m \u001b[38;5;28;01mfrom\u001b[39;00m\u001b[38;5;250m \u001b[39m\u001b[34;01mcrewai\u001b[39;00m\u001b[34;01m.\u001b[39;00m\u001b[34;01mutilities\u001b[39;00m\u001b[34;01m.\u001b[39;00m\u001b[34;01mevaluators\u001b[39;00m\u001b[34;01m.\u001b[39;00m\u001b[34;01mtask_evaluator\u001b[39;00m\u001b[38;5;250m \u001b[39m\u001b[38;5;28;01mimport\u001b[39;00m TaskEvaluator\n\u001b[32m      9\u001b[39m \u001b[38;5;28;01mfrom\u001b[39;00m\u001b[38;5;250m \u001b[39m\u001b[34;01mcrewai\u001b[39;00m\u001b[34;01m.\u001b[39;00m\u001b[34;01mutilities\u001b[39;00m\u001b[34;01m.\u001b[39;00m\u001b[34;01mprinter\u001b[39;00m\u001b[38;5;250m \u001b[39m\u001b[38;5;28;01mimport\u001b[39;00m Printer\n\u001b[32m     10\u001b[39m \u001b[38;5;28;01mfrom\u001b[39;00m\u001b[38;5;250m \u001b[39m\u001b[34;01mcrewai\u001b[39;00m\u001b[34;01m.\u001b[39;00m\u001b[34;01mutilities\u001b[39;00m\u001b[34;01m.\u001b[39;00m\u001b[34;01mevents\u001b[39;00m\u001b[34;01m.\u001b[39;00m\u001b[34;01mevent_listener\u001b[39;00m\u001b[38;5;250m \u001b[39m\u001b[38;5;28;01mimport\u001b[39;00m event_listener\n",
      "\u001b[36mFile \u001b[39m\u001b[32mc:\\python312\\Lib\\site-packages\\crewai\\utilities\\evaluators\\task_evaluator.py:6\u001b[39m\n\u001b[32m      3\u001b[39m \u001b[38;5;28;01mfrom\u001b[39;00m\u001b[38;5;250m \u001b[39m\u001b[34;01mpydantic\u001b[39;00m\u001b[38;5;250m \u001b[39m\u001b[38;5;28;01mimport\u001b[39;00m BaseModel, Field\n\u001b[32m      5\u001b[39m \u001b[38;5;28;01mfrom\u001b[39;00m\u001b[38;5;250m \u001b[39m\u001b[34;01mcrewai\u001b[39;00m\u001b[34;01m.\u001b[39;00m\u001b[34;01mutilities\u001b[39;00m\u001b[38;5;250m \u001b[39m\u001b[38;5;28;01mimport\u001b[39;00m Converter\n\u001b[32m----> \u001b[39m\u001b[32m6\u001b[39m \u001b[38;5;28;01mfrom\u001b[39;00m\u001b[38;5;250m \u001b[39m\u001b[34;01mcrewai\u001b[39;00m\u001b[34;01m.\u001b[39;00m\u001b[34;01mutilities\u001b[39;00m\u001b[34;01m.\u001b[39;00m\u001b[34;01mevents\u001b[39;00m\u001b[38;5;250m \u001b[39m\u001b[38;5;28;01mimport\u001b[39;00m TaskEvaluationEvent, crewai_event_bus\n\u001b[32m      7\u001b[39m \u001b[38;5;28;01mfrom\u001b[39;00m\u001b[38;5;250m \u001b[39m\u001b[34;01mcrewai\u001b[39;00m\u001b[34;01m.\u001b[39;00m\u001b[34;01mutilities\u001b[39;00m\u001b[34;01m.\u001b[39;00m\u001b[34;01mpydantic_schema_parser\u001b[39;00m\u001b[38;5;250m \u001b[39m\u001b[38;5;28;01mimport\u001b[39;00m PydanticSchemaParser\n\u001b[32m      8\u001b[39m \u001b[38;5;28;01mfrom\u001b[39;00m\u001b[38;5;250m \u001b[39m\u001b[34;01mcrewai\u001b[39;00m\u001b[34;01m.\u001b[39;00m\u001b[34;01mutilities\u001b[39;00m\u001b[34;01m.\u001b[39;00m\u001b[34;01mtraining_converter\u001b[39;00m\u001b[38;5;250m \u001b[39m\u001b[38;5;28;01mimport\u001b[39;00m TrainingConverter\n",
      "\u001b[36mFile \u001b[39m\u001b[32mc:\\python312\\Lib\\site-packages\\crewai\\utilities\\events\\__init__.py:69\u001b[39m\n\u001b[32m     57\u001b[39m \u001b[38;5;28;01mfrom\u001b[39;00m\u001b[38;5;250m \u001b[39m\u001b[34;01m.\u001b[39;00m\u001b[34;01mmemory_events\u001b[39;00m\u001b[38;5;250m \u001b[39m\u001b[38;5;28;01mimport\u001b[39;00m (\n\u001b[32m     58\u001b[39m     MemorySaveStartedEvent,\n\u001b[32m     59\u001b[39m     MemorySaveCompletedEvent,\n\u001b[32m   (...)\u001b[39m\u001b[32m     65\u001b[39m     MemoryRetrievalCompletedEvent,\n\u001b[32m     66\u001b[39m )\n\u001b[32m     68\u001b[39m \u001b[38;5;66;03m# events\u001b[39;00m\n\u001b[32m---> \u001b[39m\u001b[32m69\u001b[39m \u001b[38;5;28;01mfrom\u001b[39;00m\u001b[38;5;250m \u001b[39m\u001b[34;01m.\u001b[39;00m\u001b[34;01mevent_listener\u001b[39;00m\u001b[38;5;250m \u001b[39m\u001b[38;5;28;01mimport\u001b[39;00m EventListener\n\u001b[32m     70\u001b[39m \u001b[38;5;28;01mfrom\u001b[39;00m\u001b[38;5;250m \u001b[39m\u001b[34;01m.\u001b[39;00m\u001b[34;01mthird_party\u001b[39;00m\u001b[34;01m.\u001b[39;00m\u001b[34;01magentops_listener\u001b[39;00m\u001b[38;5;250m \u001b[39m\u001b[38;5;28;01mimport\u001b[39;00m agentops_listener\n\u001b[32m     72\u001b[39m __all__ = [\n\u001b[32m     73\u001b[39m     \u001b[33m\"\u001b[39m\u001b[33mEventListener\u001b[39m\u001b[33m\"\u001b[39m,\n\u001b[32m     74\u001b[39m     \u001b[33m\"\u001b[39m\u001b[33magentops_listener\u001b[39m\u001b[33m\"\u001b[39m,\n\u001b[32m   (...)\u001b[39m\u001b[32m    126\u001b[39m     \u001b[33m\"\u001b[39m\u001b[33mToolValidateInputErrorEvent\u001b[39m\u001b[33m\"\u001b[39m,\n\u001b[32m    127\u001b[39m ]\n",
      "\u001b[36mFile \u001b[39m\u001b[32mc:\\python312\\Lib\\site-packages\\crewai\\utilities\\events\\event_listener.py:5\u001b[39m\n\u001b[32m      2\u001b[39m \u001b[38;5;28;01mfrom\u001b[39;00m\u001b[38;5;250m \u001b[39m\u001b[34;01mtyping\u001b[39;00m\u001b[38;5;250m \u001b[39m\u001b[38;5;28;01mimport\u001b[39;00m Any, Dict\n\u001b[32m      4\u001b[39m \u001b[38;5;28;01mfrom\u001b[39;00m\u001b[38;5;250m \u001b[39m\u001b[34;01mpydantic\u001b[39;00m\u001b[38;5;250m \u001b[39m\u001b[38;5;28;01mimport\u001b[39;00m Field, PrivateAttr\n\u001b[32m----> \u001b[39m\u001b[32m5\u001b[39m \u001b[38;5;28;01mfrom\u001b[39;00m\u001b[38;5;250m \u001b[39m\u001b[34;01mcrewai\u001b[39;00m\u001b[34;01m.\u001b[39;00m\u001b[34;01mllm\u001b[39;00m\u001b[38;5;250m \u001b[39m\u001b[38;5;28;01mimport\u001b[39;00m LLM\n\u001b[32m      6\u001b[39m \u001b[38;5;28;01mfrom\u001b[39;00m\u001b[38;5;250m \u001b[39m\u001b[34;01mcrewai\u001b[39;00m\u001b[34;01m.\u001b[39;00m\u001b[34;01mtask\u001b[39;00m\u001b[38;5;250m \u001b[39m\u001b[38;5;28;01mimport\u001b[39;00m Task\n\u001b[32m      7\u001b[39m \u001b[38;5;28;01mfrom\u001b[39;00m\u001b[38;5;250m \u001b[39m\u001b[34;01mcrewai\u001b[39;00m\u001b[34;01m.\u001b[39;00m\u001b[34;01mtelemetry\u001b[39;00m\u001b[34;01m.\u001b[39;00m\u001b[34;01mtelemetry\u001b[39;00m\u001b[38;5;250m \u001b[39m\u001b[38;5;28;01mimport\u001b[39;00m Telemetry\n",
      "\u001b[36mFile \u001b[39m\u001b[32mc:\\python312\\Lib\\site-packages\\crewai\\llm.py:41\u001b[39m\n\u001b[32m     39\u001b[39m \u001b[38;5;28;01mwith\u001b[39;00m warnings.catch_warnings():\n\u001b[32m     40\u001b[39m     warnings.simplefilter(\u001b[33m\"\u001b[39m\u001b[33mignore\u001b[39m\u001b[33m\"\u001b[39m, \u001b[38;5;167;01mUserWarning\u001b[39;00m)\n\u001b[32m---> \u001b[39m\u001b[32m41\u001b[39m     \u001b[38;5;28;01mimport\u001b[39;00m\u001b[38;5;250m \u001b[39m\u001b[34;01mlitellm\u001b[39;00m\n\u001b[32m     42\u001b[39m     \u001b[38;5;28;01mfrom\u001b[39;00m\u001b[38;5;250m \u001b[39m\u001b[34;01mlitellm\u001b[39;00m\u001b[38;5;250m \u001b[39m\u001b[38;5;28;01mimport\u001b[39;00m Choices\n\u001b[32m     43\u001b[39m     \u001b[38;5;28;01mfrom\u001b[39;00m\u001b[38;5;250m \u001b[39m\u001b[34;01mlitellm\u001b[39;00m\u001b[34;01m.\u001b[39;00m\u001b[34;01mexceptions\u001b[39;00m\u001b[38;5;250m \u001b[39m\u001b[38;5;28;01mimport\u001b[39;00m ContextWindowExceededError\n",
      "\u001b[36mFile \u001b[39m\u001b[32mc:\\python312\\Lib\\site-packages\\litellm\\__init__.py:327\u001b[39m\n\u001b[32m    323\u001b[39m disable_aiohttp_transport: \u001b[38;5;28mbool\u001b[39m = \u001b[38;5;28;01mFalse\u001b[39;00m  \u001b[38;5;66;03m# Set this to true to use httpx instead\u001b[39;00m\n\u001b[32m    324\u001b[39m force_ipv4: \u001b[38;5;28mbool\u001b[39m = (\n\u001b[32m    325\u001b[39m     \u001b[38;5;28;01mFalse\u001b[39;00m  \u001b[38;5;66;03m# when True, litellm will force ipv4 for all LLM requests. Some users have seen httpx ConnectionError when using ipv6.\u001b[39;00m\n\u001b[32m    326\u001b[39m )\n\u001b[32m--> \u001b[39m\u001b[32m327\u001b[39m module_level_aclient = \u001b[43mAsyncHTTPHandler\u001b[49m\u001b[43m(\u001b[49m\n\u001b[32m    328\u001b[39m \u001b[43m    \u001b[49m\u001b[43mtimeout\u001b[49m\u001b[43m=\u001b[49m\u001b[43mrequest_timeout\u001b[49m\u001b[43m,\u001b[49m\u001b[43m \u001b[49m\u001b[43mclient_alias\u001b[49m\u001b[43m=\u001b[49m\u001b[33;43m\"\u001b[39;49m\u001b[33;43mmodule level aclient\u001b[39;49m\u001b[33;43m\"\u001b[39;49m\n\u001b[32m    329\u001b[39m \u001b[43m)\u001b[49m\n\u001b[32m    330\u001b[39m module_level_client = HTTPHandler(timeout=request_timeout)\n\u001b[32m    332\u001b[39m \u001b[38;5;66;03m#### RETRIES ####\u001b[39;00m\n",
      "\u001b[36mFile \u001b[39m\u001b[32mc:\\python312\\Lib\\site-packages\\litellm\\llms\\custom_httpx\\http_handler.py:107\u001b[39m, in \u001b[36mAsyncHTTPHandler.__init__\u001b[39m\u001b[34m(self, timeout, event_hooks, concurrent_limit, client_alias, ssl_verify)\u001b[39m\n\u001b[32m    105\u001b[39m \u001b[38;5;28mself\u001b[39m.timeout = timeout\n\u001b[32m    106\u001b[39m \u001b[38;5;28mself\u001b[39m.event_hooks = event_hooks\n\u001b[32m--> \u001b[39m\u001b[32m107\u001b[39m \u001b[38;5;28mself\u001b[39m.client = \u001b[38;5;28;43mself\u001b[39;49m\u001b[43m.\u001b[49m\u001b[43mcreate_client\u001b[49m\u001b[43m(\u001b[49m\n\u001b[32m    108\u001b[39m \u001b[43m    \u001b[49m\u001b[43mtimeout\u001b[49m\u001b[43m=\u001b[49m\u001b[43mtimeout\u001b[49m\u001b[43m,\u001b[49m\n\u001b[32m    109\u001b[39m \u001b[43m    \u001b[49m\u001b[43mconcurrent_limit\u001b[49m\u001b[43m=\u001b[49m\u001b[43mconcurrent_limit\u001b[49m\u001b[43m,\u001b[49m\n\u001b[32m    110\u001b[39m \u001b[43m    \u001b[49m\u001b[43mevent_hooks\u001b[49m\u001b[43m=\u001b[49m\u001b[43mevent_hooks\u001b[49m\u001b[43m,\u001b[49m\n\u001b[32m    111\u001b[39m \u001b[43m    \u001b[49m\u001b[43mssl_verify\u001b[49m\u001b[43m=\u001b[49m\u001b[43mssl_verify\u001b[49m\u001b[43m,\u001b[49m\n\u001b[32m    112\u001b[39m \u001b[43m\u001b[49m\u001b[43m)\u001b[49m\n\u001b[32m    113\u001b[39m \u001b[38;5;28mself\u001b[39m.client_alias = client_alias\n",
      "\u001b[36mFile \u001b[39m\u001b[32mc:\\python312\\Lib\\site-packages\\litellm\\llms\\custom_httpx\\http_handler.py:154\u001b[39m, in \u001b[36mAsyncHTTPHandler.create_client\u001b[39m\u001b[34m(self, timeout, concurrent_limit, event_hooks, ssl_verify)\u001b[39m\n\u001b[32m    151\u001b[39m     timeout = _DEFAULT_TIMEOUT\n\u001b[32m    152\u001b[39m \u001b[38;5;66;03m# Create a client with a connection pool\u001b[39;00m\n\u001b[32m--> \u001b[39m\u001b[32m154\u001b[39m transport = \u001b[43mAsyncHTTPHandler\u001b[49m\u001b[43m.\u001b[49m\u001b[43m_create_async_transport\u001b[49m\u001b[43m(\u001b[49m\n\u001b[32m    155\u001b[39m \u001b[43m    \u001b[49m\u001b[43mssl_context\u001b[49m\u001b[43m=\u001b[49m\u001b[43mssl_verify\u001b[49m\u001b[43m \u001b[49m\u001b[38;5;28;43;01mif\u001b[39;49;00m\u001b[43m \u001b[49m\u001b[38;5;28;43misinstance\u001b[39;49m\u001b[43m(\u001b[49m\u001b[43mssl_verify\u001b[49m\u001b[43m,\u001b[49m\u001b[43m \u001b[49m\u001b[43mssl\u001b[49m\u001b[43m.\u001b[49m\u001b[43mSSLContext\u001b[49m\u001b[43m)\u001b[49m\u001b[43m \u001b[49m\u001b[38;5;28;43;01melse\u001b[39;49;00m\u001b[43m \u001b[49m\u001b[38;5;28;43;01mNone\u001b[39;49;00m\u001b[43m,\u001b[49m\n\u001b[32m    156\u001b[39m \u001b[43m    \u001b[49m\u001b[43mssl_verify\u001b[49m\u001b[43m=\u001b[49m\u001b[43mssl_verify\u001b[49m\u001b[43m \u001b[49m\u001b[38;5;28;43;01mif\u001b[39;49;00m\u001b[43m \u001b[49m\u001b[38;5;28;43misinstance\u001b[39;49m\u001b[43m(\u001b[49m\u001b[43mssl_verify\u001b[49m\u001b[43m,\u001b[49m\u001b[43m \u001b[49m\u001b[38;5;28;43mbool\u001b[39;49m\u001b[43m)\u001b[49m\u001b[43m \u001b[49m\u001b[38;5;28;43;01melse\u001b[39;49;00m\u001b[43m \u001b[49m\u001b[38;5;28;43;01mNone\u001b[39;49;00m\u001b[43m,\u001b[49m\n\u001b[32m    157\u001b[39m \u001b[43m\u001b[49m\u001b[43m)\u001b[49m\n\u001b[32m    159\u001b[39m \u001b[38;5;28;01mreturn\u001b[39;00m httpx.AsyncClient(\n\u001b[32m    160\u001b[39m     transport=transport,\n\u001b[32m    161\u001b[39m     event_hooks=event_hooks,\n\u001b[32m   (...)\u001b[39m\u001b[32m    169\u001b[39m     headers=headers,\n\u001b[32m    170\u001b[39m )\n",
      "\u001b[36mFile \u001b[39m\u001b[32mc:\\python312\\Lib\\site-packages\\litellm\\llms\\custom_httpx\\http_handler.py:499\u001b[39m, in \u001b[36mAsyncHTTPHandler._create_async_transport\u001b[39m\u001b[34m(ssl_context, ssl_verify)\u001b[39m\n\u001b[32m    495\u001b[39m \u001b[38;5;66;03m#########################################################\u001b[39;00m\n\u001b[32m    496\u001b[39m \u001b[38;5;66;03m# AIOHTTP TRANSPORT is off by default\u001b[39;00m\n\u001b[32m    497\u001b[39m \u001b[38;5;66;03m#########################################################\u001b[39;00m\n\u001b[32m    498\u001b[39m \u001b[38;5;28;01mif\u001b[39;00m AsyncHTTPHandler._should_use_aiohttp_transport():\n\u001b[32m--> \u001b[39m\u001b[32m499\u001b[39m     \u001b[38;5;28;01mreturn\u001b[39;00m \u001b[43mAsyncHTTPHandler\u001b[49m\u001b[43m.\u001b[49m\u001b[43m_create_aiohttp_transport\u001b[49m\u001b[43m(\u001b[49m\n\u001b[32m    500\u001b[39m \u001b[43m        \u001b[49m\u001b[43mssl_context\u001b[49m\u001b[43m=\u001b[49m\u001b[43mssl_context\u001b[49m\u001b[43m,\u001b[49m\u001b[43m \u001b[49m\u001b[43mssl_verify\u001b[49m\u001b[43m=\u001b[49m\u001b[43mssl_verify\u001b[49m\n\u001b[32m    501\u001b[39m \u001b[43m    \u001b[49m\u001b[43m)\u001b[49m\n\u001b[32m    503\u001b[39m \u001b[38;5;66;03m#########################################################\u001b[39;00m\n\u001b[32m    504\u001b[39m \u001b[38;5;66;03m# HTTPX TRANSPORT is used when aiohttp is not installed\u001b[39;00m\n\u001b[32m    505\u001b[39m \u001b[38;5;66;03m#########################################################\u001b[39;00m\n\u001b[32m    506\u001b[39m \u001b[38;5;28;01mreturn\u001b[39;00m AsyncHTTPHandler._create_httpx_transport()\n",
      "\u001b[36mFile \u001b[39m\u001b[32mc:\\python312\\Lib\\site-packages\\litellm\\llms\\custom_httpx\\http_handler.py:547\u001b[39m, in \u001b[36mAsyncHTTPHandler._create_aiohttp_transport\u001b[39m\u001b[34m(ssl_verify, ssl_context)\u001b[39m\n\u001b[32m    536\u001b[39m \u001b[38;5;129m@staticmethod\u001b[39m\n\u001b[32m    537\u001b[39m \u001b[38;5;28;01mdef\u001b[39;00m\u001b[38;5;250m \u001b[39m\u001b[34m_create_aiohttp_transport\u001b[39m(\n\u001b[32m    538\u001b[39m     ssl_verify: Optional[\u001b[38;5;28mbool\u001b[39m] = \u001b[38;5;28;01mNone\u001b[39;00m,\n\u001b[32m    539\u001b[39m     ssl_context: Optional[ssl.SSLContext] = \u001b[38;5;28;01mNone\u001b[39;00m,\n\u001b[32m    540\u001b[39m ) -> LiteLLMAiohttpTransport:\n\u001b[32m    541\u001b[39m \u001b[38;5;250m    \u001b[39m\u001b[33;03m\"\"\"\u001b[39;00m\n\u001b[32m    542\u001b[39m \u001b[33;03m    Creates an AiohttpTransport with RequestNotRead error handling\u001b[39;00m\n\u001b[32m    543\u001b[39m \n\u001b[32m    544\u001b[39m \u001b[33;03m    - If force_ipv4 is True, it will create an AiohttpTransport with local_addr set to \"0.0.0.0\"\u001b[39;00m\n\u001b[32m    545\u001b[39m \u001b[33;03m    - [Default] If force_ipv4 is False, it will create an AiohttpTransport with default settings\u001b[39;00m\n\u001b[32m    546\u001b[39m \u001b[33;03m    \"\"\"\u001b[39;00m\n\u001b[32m--> \u001b[39m\u001b[32m547\u001b[39m     \u001b[38;5;28;01mfrom\u001b[39;00m\u001b[38;5;250m \u001b[39m\u001b[34;01mlitellm\u001b[39;00m\u001b[34;01m.\u001b[39;00m\u001b[34;01mllms\u001b[39;00m\u001b[34;01m.\u001b[39;00m\u001b[34;01mcustom_httpx\u001b[39;00m\u001b[34;01m.\u001b[39;00m\u001b[34;01maiohttp_transport\u001b[39;00m\u001b[38;5;250m \u001b[39m\u001b[38;5;28;01mimport\u001b[39;00m LiteLLMAiohttpTransport\n\u001b[32m    549\u001b[39m     \u001b[38;5;66;03m#########################################################\u001b[39;00m\n\u001b[32m    550\u001b[39m     \u001b[38;5;66;03m# If ssl_verify is None, set it to True\u001b[39;00m\n\u001b[32m    551\u001b[39m     \u001b[38;5;66;03m# TCP Connector does not allow ssl_verify to be None\u001b[39;00m\n\u001b[32m    552\u001b[39m     \u001b[38;5;66;03m# by default aiohttp sets ssl_verify to True\u001b[39;00m\n\u001b[32m    553\u001b[39m     \u001b[38;5;66;03m#########################################################\u001b[39;00m\n\u001b[32m    554\u001b[39m     \u001b[38;5;28;01mif\u001b[39;00m ssl_verify \u001b[38;5;129;01mis\u001b[39;00m \u001b[38;5;28;01mNone\u001b[39;00m:\n",
      "\u001b[36mFile \u001b[39m\u001b[32mc:\\python312\\Lib\\site-packages\\litellm\\llms\\custom_httpx\\aiohttp_transport.py:18\u001b[39m\n\u001b[32m     10\u001b[39m \u001b[38;5;28;01mfrom\u001b[39;00m\u001b[38;5;250m \u001b[39m\u001b[34;01maiohttp\u001b[39;00m\u001b[34;01m.\u001b[39;00m\u001b[34;01mclient\u001b[39;00m\u001b[38;5;250m \u001b[39m\u001b[38;5;28;01mimport\u001b[39;00m ClientResponse, ClientSession\n\u001b[32m     12\u001b[39m \u001b[38;5;28;01mfrom\u001b[39;00m\u001b[38;5;250m \u001b[39m\u001b[34;01mlitellm\u001b[39;00m\u001b[34;01m.\u001b[39;00m\u001b[34;01m_logging\u001b[39;00m\u001b[38;5;250m \u001b[39m\u001b[38;5;28;01mimport\u001b[39;00m verbose_logger\n\u001b[32m     14\u001b[39m AIOHTTP_EXC_MAP: Dict = {\n\u001b[32m     15\u001b[39m     \u001b[38;5;66;03m# Order matters here, most specific exception first\u001b[39;00m\n\u001b[32m     16\u001b[39m     \u001b[38;5;66;03m# Timeout related exceptions\u001b[39;00m\n\u001b[32m     17\u001b[39m     aiohttp.ServerTimeoutError: httpx.TimeoutException,\n\u001b[32m---> \u001b[39m\u001b[32m18\u001b[39m     \u001b[43maiohttp\u001b[49m\u001b[43m.\u001b[49m\u001b[43mConnectionTimeoutError\u001b[49m: httpx.ConnectTimeout,\n\u001b[32m     19\u001b[39m     aiohttp.SocketTimeoutError: httpx.ReadTimeout,\n\u001b[32m     20\u001b[39m     \u001b[38;5;66;03m# Proxy related exceptions\u001b[39;00m\n\u001b[32m     21\u001b[39m     aiohttp.ClientProxyConnectionError: httpx.ProxyError,\n\u001b[32m     22\u001b[39m     \u001b[38;5;66;03m# SSL related exceptions\u001b[39;00m\n\u001b[32m     23\u001b[39m     aiohttp.ClientConnectorCertificateError: httpx.ProtocolError,\n\u001b[32m     24\u001b[39m     aiohttp.ClientSSLError: httpx.ProtocolError,\n\u001b[32m     25\u001b[39m     aiohttp.ServerFingerprintMismatch: httpx.ProtocolError,\n\u001b[32m     26\u001b[39m     \u001b[38;5;66;03m# Network related exceptions\u001b[39;00m\n\u001b[32m     27\u001b[39m     aiohttp.ClientConnectorError: httpx.ConnectError,\n\u001b[32m     28\u001b[39m     aiohttp.ClientOSError: httpx.ConnectError,\n\u001b[32m     29\u001b[39m     aiohttp.ClientPayloadError: httpx.ReadError,\n\u001b[32m     30\u001b[39m     \u001b[38;5;66;03m# Connection disconnection exceptions\u001b[39;00m\n\u001b[32m     31\u001b[39m     aiohttp.ServerDisconnectedError: httpx.ReadError,\n\u001b[32m     32\u001b[39m     \u001b[38;5;66;03m# Response related exceptions\u001b[39;00m\n\u001b[32m     33\u001b[39m     aiohttp.ClientConnectionError: httpx.NetworkError,\n\u001b[32m     34\u001b[39m     aiohttp.ClientPayloadError: httpx.ReadError,\n\u001b[32m     35\u001b[39m     aiohttp.ContentTypeError: httpx.ReadError,\n\u001b[32m     36\u001b[39m     aiohttp.TooManyRedirects: httpx.TooManyRedirects,\n\u001b[32m     37\u001b[39m     \u001b[38;5;66;03m# URL related exceptions\u001b[39;00m\n\u001b[32m     38\u001b[39m     aiohttp.InvalidURL: httpx.InvalidURL,\n\u001b[32m     39\u001b[39m     \u001b[38;5;66;03m# Base exceptions\u001b[39;00m\n\u001b[32m     40\u001b[39m     aiohttp.ClientError: httpx.RequestError,\n\u001b[32m     41\u001b[39m }\n\u001b[32m     43\u001b[39m \u001b[38;5;66;03m# Add client_exceptions module exceptions\u001b[39;00m\n\u001b[32m     44\u001b[39m \u001b[38;5;28;01mtry\u001b[39;00m:\n",
      "\u001b[36mFile \u001b[39m\u001b[32mc:\\python312\\Lib\\site-packages\\aiohttp\\__init__.py:240\u001b[39m, in \u001b[36m__getattr__\u001b[39m\u001b[34m(name)\u001b[39m\n\u001b[32m    237\u001b[39m     GunicornWebWorker = gw  \u001b[38;5;66;03m# type: ignore[misc]\u001b[39;00m\n\u001b[32m    238\u001b[39m     \u001b[38;5;28;01mreturn\u001b[39;00m guv \u001b[38;5;28;01mif\u001b[39;00m name == \u001b[33m\"\u001b[39m\u001b[33mGunicornUVLoopWebWorker\u001b[39m\u001b[33m\"\u001b[39m \u001b[38;5;28;01melse\u001b[39;00m gw\n\u001b[32m--> \u001b[39m\u001b[32m240\u001b[39m \u001b[38;5;28;01mraise\u001b[39;00m \u001b[38;5;167;01mAttributeError\u001b[39;00m(\u001b[33mf\u001b[39m\u001b[33m\"\u001b[39m\u001b[33mmodule \u001b[39m\u001b[38;5;132;01m{\u001b[39;00m\u001b[34m__name__\u001b[39m\u001b[38;5;132;01m}\u001b[39;00m\u001b[33m has no attribute \u001b[39m\u001b[38;5;132;01m{\u001b[39;00mname\u001b[38;5;132;01m}\u001b[39;00m\u001b[33m\"\u001b[39m)\n",
      "\u001b[31mAttributeError\u001b[39m: module aiohttp has no attribute ConnectionTimeoutError"
     ]
    }
   ],
   "source": [
    "from crewai import Agent\n",
    "from langchain_openai import ChatOpenAI\n",
    "\n",
    "# First, set up your OpenAI API key\n",
    "import os\n",
    "from dotenv import load_dotenv\n",
    "\n",
    "load_dotenv()\n",
    "\n",
    "# Retrieve your API key from Colab secrets\n",
    "os.environ[\"OPENAI_API_KEY\"] = os.get('OPEN_API_KEY')\n",
    "\n",
    "# Create an instance of OpenAI's LLM\n",
    "openai_llm = ChatOpenAI(\n",
    "    model_name=\"gpt-4o\",  # Or another model like \"gpt-3.5-turbo\"\n",
    "    temperature=0.7\n",
    ")\n",
    "\n",
    "# Define your agent with OpenAI LLM\n",
    "chat_bot = Agent(\n",
    "    role='Critical Thinker',\n",
    "    goal='Analyse the text and identify if any conflicting information within',\n",
    "    llm=openai_llm,  # Pass the OpenAI LLM instance here\n",
    "    verbose=False,\n",
    "    backstory=(\n",
    "        'You are a critical thinker who understands details very well and expert negotiator.'\n",
    "        \"You can identify conflicting statements, information in given text\"\n",
    "    ),\n",
    ")"
   ]
  },
  {
   "cell_type": "markdown",
   "id": "9e1b75e1",
   "metadata": {
    "id": "9e1b75e1"
   },
   "source": [
    "### Step 2: Define the Task"
   ]
  },
  {
   "cell_type": "code",
   "execution_count": 3,
   "id": "987c9d9a",
   "metadata": {
    "executionInfo": {
     "elapsed": 11,
     "status": "ok",
     "timestamp": 1758347026244,
     "user": {
      "displayName": "K.V.S Dileep",
      "userId": "13075717717617965326"
     },
     "user_tz": -330
    },
    "id": "987c9d9a"
   },
   "outputs": [],
   "source": [
    "from crewai import Task\n",
    "\n",
    "# Define a task with a description and expected output\n",
    "chat_task = Task(\n",
    "    description=('Find if there are any conflicting statement / information in text. \\n Text : \\n{text}'),\n",
    "    expected_output=\"Respond with 'conflict' / 'no conflict'\",\n",
    "    agent=chat_bot,\n",
    ")"
   ]
  },
  {
   "cell_type": "markdown",
   "id": "8b22e9bf",
   "metadata": {
    "id": "8b22e9bf"
   },
   "source": [
    "### Step 3: Initialize the Crew"
   ]
  },
  {
   "cell_type": "code",
   "execution_count": 4,
   "id": "e1608bf4",
   "metadata": {
    "executionInfo": {
     "elapsed": 43,
     "status": "ok",
     "timestamp": 1758347039904,
     "user": {
      "displayName": "K.V.S Dileep",
      "userId": "13075717717617965326"
     },
     "user_tz": -330
    },
    "id": "e1608bf4"
   },
   "outputs": [],
   "source": [
    "from crewai import Crew, Process\n",
    "from google.colab import userdata\n",
    "import os\n",
    "\n",
    "\n",
    "# Define the Crew with agents and tasks\n",
    "crew = Crew(\n",
    "    agents=[chat_bot],\n",
    "    tasks=[chat_task],\n",
    ")"
   ]
  },
  {
   "cell_type": "markdown",
   "id": "a47100b2",
   "metadata": {
    "id": "a47100b2"
   },
   "source": [
    "### Step 4: Run the Crew and Get the Response"
   ]
  },
  {
   "cell_type": "code",
   "execution_count": 6,
   "id": "238c65b8",
   "metadata": {
    "colab": {
     "base_uri": "https://localhost:8080/",
     "height": 230
    },
    "executionInfo": {
     "elapsed": 4782,
     "status": "ok",
     "timestamp": 1758347123353,
     "user": {
      "displayName": "K.V.S Dileep",
      "userId": "13075717717617965326"
     },
     "user_tz": -330
    },
    "id": "238c65b8",
    "outputId": "6fd14369-ae0f-4386-ef32-69fbff6d5372"
   },
   "outputs": [
    {
     "data": {
      "text/html": [
       "<pre style=\"white-space:pre;overflow-x:auto;line-height:normal;font-family:Menlo,'DejaVu Sans Mono',consolas,'Courier New',monospace\">\n",
       "\n",
       "</pre>\n"
      ],
      "text/plain": [
       "\n",
       "\n"
      ]
     },
     "metadata": {},
     "output_type": "display_data"
    },
    {
     "data": {
      "text/html": [
       "<pre style=\"white-space:pre;overflow-x:auto;line-height:normal;font-family:Menlo,'DejaVu Sans Mono',consolas,'Courier New',monospace\"><span style=\"color: #008080; text-decoration-color: #008080\">╭─────────────────────────────────────────────── </span><span style=\"color: #008080; text-decoration-color: #008080; font-weight: bold\">Execution Traces</span><span style=\"color: #008080; text-decoration-color: #008080\"> ────────────────────────────────────────────────╮</span>\n",
       "<span style=\"color: #008080; text-decoration-color: #008080\">│</span>                                                                                                                 <span style=\"color: #008080; text-decoration-color: #008080\">│</span>\n",
       "<span style=\"color: #008080; text-decoration-color: #008080\">│</span>  <span style=\"color: #008080; text-decoration-color: #008080; font-weight: bold\">🔍 Detailed execution traces are available!</span>                                                                    <span style=\"color: #008080; text-decoration-color: #008080\">│</span>\n",
       "<span style=\"color: #008080; text-decoration-color: #008080\">│</span>                                                                                                                 <span style=\"color: #008080; text-decoration-color: #008080\">│</span>\n",
       "<span style=\"color: #008080; text-decoration-color: #008080\">│</span>  <span style=\"color: #c0c0c0; text-decoration-color: #c0c0c0\">View insights including:</span>                                                                                       <span style=\"color: #008080; text-decoration-color: #008080\">│</span>\n",
       "<span style=\"color: #008080; text-decoration-color: #008080\">│</span>  <span style=\"color: #0000ff; text-decoration-color: #0000ff\">  • Agent decision-making process</span>                                                                              <span style=\"color: #008080; text-decoration-color: #008080\">│</span>\n",
       "<span style=\"color: #008080; text-decoration-color: #008080\">│</span>  <span style=\"color: #0000ff; text-decoration-color: #0000ff\">  • Task execution flow and timing</span>                                                                             <span style=\"color: #008080; text-decoration-color: #008080\">│</span>\n",
       "<span style=\"color: #008080; text-decoration-color: #008080\">│</span>  <span style=\"color: #0000ff; text-decoration-color: #0000ff\">  • Tool usage details</span>                                                                                         <span style=\"color: #008080; text-decoration-color: #008080\">│</span>\n",
       "<span style=\"color: #008080; text-decoration-color: #008080\">│</span>                                                                                                                 <span style=\"color: #008080; text-decoration-color: #008080\">│</span>\n",
       "<span style=\"color: #008080; text-decoration-color: #008080\">╰─────────────────────────────────────────────────────────────────────────────────────────────────────────────────╯</span>\n",
       "</pre>\n"
      ],
      "text/plain": [
       "\u001b[36m╭─\u001b[0m\u001b[36m──────────────────────────────────────────────\u001b[0m\u001b[36m \u001b[0m\u001b[1;36mExecution Traces\u001b[0m\u001b[36m \u001b[0m\u001b[36m───────────────────────────────────────────────\u001b[0m\u001b[36m─╮\u001b[0m\n",
       "\u001b[36m│\u001b[0m                                                                                                                 \u001b[36m│\u001b[0m\n",
       "\u001b[36m│\u001b[0m  \u001b[1;36m🔍 \u001b[0m\u001b[1;36mDetailed execution traces are available!\u001b[0m                                                                    \u001b[36m│\u001b[0m\n",
       "\u001b[36m│\u001b[0m                                                                                                                 \u001b[36m│\u001b[0m\n",
       "\u001b[36m│\u001b[0m  \u001b[37mView insights including:\u001b[0m                                                                                       \u001b[36m│\u001b[0m\n",
       "\u001b[36m│\u001b[0m  \u001b[94m  • Agent decision-making process\u001b[0m                                                                              \u001b[36m│\u001b[0m\n",
       "\u001b[36m│\u001b[0m  \u001b[94m  • Task execution flow and timing\u001b[0m                                                                             \u001b[36m│\u001b[0m\n",
       "\u001b[36m│\u001b[0m  \u001b[94m  • Tool usage details\u001b[0m                                                                                         \u001b[36m│\u001b[0m\n",
       "\u001b[36m│\u001b[0m                                                                                                                 \u001b[36m│\u001b[0m\n",
       "\u001b[36m╰─────────────────────────────────────────────────────────────────────────────────────────────────────────────────╯\u001b[0m\n"
      ]
     },
     "metadata": {},
     "output_type": "display_data"
    },
    {
     "name": "stdout",
     "output_type": "stream",
     "text": [
      "Would you like to view your execution traces? [y/N] (20s timeout): N\n",
      "Response: No conflict\n"
     ]
    }
   ],
   "source": [
    "# Kickoff the Crew with the input query\n",
    "Text = \"After a long day at office, I was going back home in the late evening. Then, I met my friend on the way to home.\"\n",
    "\n",
    "result = crew.kickoff(inputs={'text': Text})\n",
    "\n",
    "# Print the response\n",
    "print(\"Response:\", result)"
   ]
  },
  {
   "cell_type": "markdown",
   "id": "85e8c10f",
   "metadata": {
    "id": "85e8c10f"
   },
   "source": [
    "\n",
    "---\n",
    "### Conclusion\n",
    "This demonstrates the ability to define and execute tasks with CrewAI agents. You can now expand this framework to handle more complex tasks and use cases by modifying the agent's backstory, goals, or associated tasks.\n"
   ]
  }
 ],
 "metadata": {
  "colab": {
   "provenance": [
    {
     "file_id": "1cdBY9xvUhn1cAv5WMRGNXKpd9ynD6KDP",
     "timestamp": 1743330914974
    }
   ]
  },
  "kernelspec": {
   "display_name": "Python 3",
   "name": "python3"
  },
  "language_info": {
   "codemirror_mode": {
    "name": "ipython",
    "version": 3
   },
   "file_extension": ".py",
   "mimetype": "text/x-python",
   "name": "python",
   "nbconvert_exporter": "python",
   "pygments_lexer": "ipython3",
   "version": "3.12.9"
  }
 },
 "nbformat": 4,
 "nbformat_minor": 5
}
