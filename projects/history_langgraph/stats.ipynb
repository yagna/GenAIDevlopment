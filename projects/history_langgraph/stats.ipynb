{
 "cells": [
  {
   "cell_type": "code",
   "execution_count": null,
   "id": "0c3b0b84",
   "metadata": {},
   "outputs": [],
   "source": [
    "from langgraph.graph import StateGraph,START,END\n",
    "from typing import TypedDict\n",
    "\n",
    "class ResultState(TypeDict):\n",
    "     value1:int\n",
    "     value2:int\n",
    "     result:int\n"
   ]
  },
  {
   "cell_type": "code",
   "execution_count": null,
   "id": "23db16c6",
   "metadata": {},
   "outputs": [],
   "source": [
    "def add(state:ResultState) -> ResultState:\n",
    "    state['result'] = state['value1'] + state['value2']\n",
    "    return state"
   ]
  },
  {
   "cell_type": "code",
   "execution_count": null,
   "id": "8f011505",
   "metadata": {},
   "outputs": [],
   "source": [
    "def sub(state:ResultState) -> ResultState:\n",
    "    state['result'] = state['value1'] - state['value2']\n",
    "    return state"
   ]
  },
  {
   "cell_type": "code",
   "execution_count": null,
   "id": "14049975",
   "metadata": {},
   "outputs": [],
   "source": [
    "state_graph =  StateGraph(ResultState)\n",
    "#state_graph.add_node(START,'add')\n",
    "state_graph.add_node('add',add)\n",
    "state_graph.add_node('sub',sub)\n",
    "state_graph.set_entry_point('add')\n",
    "state_graph.add_edge('add','sub')\n",
    "state_graph.set_finish_point('sub')\n",
    "graph = state_graph.compile()\n",
    "\n",
    "#draw_graph(graph)"
   ]
  },
  {
   "cell_type": "code",
   "execution_count": null,
   "id": "890a3ee7",
   "metadata": {},
   "outputs": [],
   "source": [
    "\n"
   ]
  },
  {
   "cell_type": "markdown",
   "id": "1f557cee",
   "metadata": {},
   "source": [
    "# to prevent overriding\n",
    "# approch 1\n",
    "''' python \n",
    "   class ResultState(TypeDict):\n",
    "     value1:int\n",
    "     value2:int\n",
    "     add_result:int\n",
    "     sub_result:int\n",
    "# approch 2\n",
    " class ResultState(TypeDict):\n",
    "     value1:int\n",
    "     value2:int\n",
    "     result: list[int]''''\n",
    "    "
   ]
  },
  {
   "cell_type": "markdown",
   "id": "b3b47d9a",
   "metadata": {},
   "source": [
    "# It is not  nessary that every node has to retrun the complete state\n",
    "#partial Updates are also ok\n",
    "\n"
   ]
  },
  {
   "cell_type": "code",
   "execution_count": null,
   "id": "69493426",
   "metadata": {},
   "outputs": [],
   "source": [
    "\n",
    "class ResultState(TypeDict):\n",
    "     value1:int\n",
    "     value2:int\n",
    "     add_result:int\n",
    "     sub_result:int\n",
    "\n",
    "def add(state:ResultState) -> ResultState:\n",
    "    state['add_result'] = state['value1'] + state['value2']\n",
    "    return state\n",
    "\n",
    "def sub(state:ResultState) -> ResultState:\n",
    "    state['sub_result'] = state['value1'] - state['value2']\n",
    "    return state"
   ]
  },
  {
   "cell_type": "code",
   "execution_count": null,
   "id": "309d753b",
   "metadata": {},
   "outputs": [],
   "source": []
  }
 ],
 "metadata": {
  "language_info": {
   "name": "python"
  }
 },
 "nbformat": 4,
 "nbformat_minor": 5
}
