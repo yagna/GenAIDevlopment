{
 "cells": [
  {
   "cell_type": "markdown",
   "id": "6558e61c",
   "metadata": {},
   "source": [
    "# use the pandas for the file manipulations\n",
    "\n"
   ]
  },
  {
   "cell_type": "code",
   "execution_count": null,
   "id": "0d2dd3aa",
   "metadata": {},
   "outputs": [],
   "source": [
    "import pandas as pd\n",
    "\n",
    "print(pd.Series([1,2,3,4,5]))\n"
   ]
  }
 ],
 "metadata": {
  "kernelspec": {
   "display_name": ".venv",
   "language": "python",
   "name": "python3"
  },
  "language_info": {
   "name": "python",
   "version": "3.13.3"
  }
 },
 "nbformat": 4,
 "nbformat_minor": 5
}
