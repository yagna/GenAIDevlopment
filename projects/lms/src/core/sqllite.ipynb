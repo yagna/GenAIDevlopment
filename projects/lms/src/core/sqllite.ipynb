{
 "cells": [
  {
   "cell_type": "code",
   "execution_count": null,
   "id": "cdd629b1",
   "metadata": {},
   "outputs": [],
   "source": [
    "import sqlite3\n",
    "\n",
    "create_query=\"CREATE TABLE Books ( BookID INT PRIMARY KEY, Title VARCHAR(255) NOT NULL, Author VARCHAR(100) NOT NULL, PublicationYear INT,ISBN VARCHAR(20) UNIQUE,Price DECIMAL(10, 2));\"\n",
    "with sqlite3.connect('catalog.db') as connection:\n",
    " connection.execute(create_query)\n",
    "\n"
   ]
  },
  {
   "cell_type": "markdown",
   "id": "1aa36379",
   "metadata": {},
   "source": [
    "# create tables in \n",
    "CREATE TABLE Books (\n",
    "    BookID INT PRIMARY KEY,\n",
    "    Title VARCHAR(255) NOT NULL,\n",
    "    Author VARCHAR(100) NOT NULL,\n",
    "    PublicationYear INT,\n",
    "    ISBN VARCHAR(20) UNIQUE,\n",
    "    Price DECIMAL(10, 2)\n",
    ");"
   ]
  },
  {
   "cell_type": "markdown",
   "id": "b745d135",
   "metadata": {},
   "source": [
    "INSERT INTO Books (Title, Author, PublicationYear, ISBN, Price)\n",
    "VALUES ('Dune', 'Frank Herbert', 1965, '978-0441172719', 14.50);"
   ]
  },
  {
   "cell_type": "code",
   "execution_count": 6,
   "id": "d4200802",
   "metadata": {},
   "outputs": [
    {
     "name": "stdout",
     "output_type": "stream",
     "text": [
      "INSERT INTO Books (Title, Author, PublicationYear, ISBN, Price) VALUES ('wealth', 'yagna', '2025', '978-0441172719', 14.50);\n"
     ]
    }
   ],
   "source": [
    "import sqlite3\n",
    "title = input(\"enter the title:\")\n",
    "author = input(\"enter the autor:\")\n",
    "publication =input(\"enter the publication year:\")\n",
    "isbn = input(\"enter the isbn\")\n",
    "insert_query = f\"INSERT INTO Books (Title, Author, PublicationYear, ISBN, Price) VALUES ('{title}', '{author}', '{publication}', '978-0441172719', 14.50);\"\n",
    "print(insert_query)\n",
    "with sqlite3.connect('catalog.db') as connection:\n",
    " connection.execute(insert_query)"
   ]
  },
  {
   "cell_type": "markdown",
   "id": "497b996b",
   "metadata": {},
   "source": [
    "#  select from books db\n",
    "SELECT *\n",
    "FROM Books where category=''\n",
    "\n",
    "query = \"SELECT BookID, Title, Author, Price FROM Books WHERE PublicationYear >= 1950 ORDER BY Author\""
   ]
  },
  {
   "cell_type": "code",
   "execution_count": 18,
   "id": "57e1347e",
   "metadata": {},
   "outputs": [
    {
     "name": "stdout",
     "output_type": "stream",
     "text": [
      "select * from books where Title = 'wealth';\n",
      "--- Books --- (None, 'wealth', 'yagna', 2025, '978-0441172719', 14.5)\n"
     ]
    }
   ],
   "source": [
    "import sqlite3\n",
    "\n",
    "name =input(\"enter name of the book:\")\n",
    "select_query = f\"select * from books where Title = '{name}';\"\n",
    "\n",
    "\n",
    "print(select_query)\n",
    "with sqlite3.connect('catalog.db') as connection:\n",
    " cru =connection.cursor()\n",
    " cru.execute(str(select_query)) \n",
    " rows = cru.fetchall()\n",
    " for row in rows:\n",
    "  print (\"--- Books ---\",row)\n",
    " \n",
    "   \n",
    "\n"
   ]
  }
 ],
 "metadata": {
  "kernelspec": {
   "display_name": ".venv",
   "language": "python",
   "name": "python3"
  },
  "language_info": {
   "codemirror_mode": {
    "name": "ipython",
    "version": 3
   },
   "file_extension": ".py",
   "mimetype": "text/x-python",
   "name": "python",
   "nbconvert_exporter": "python",
   "pygments_lexer": "ipython3",
   "version": "3.13.3"
  }
 },
 "nbformat": 4,
 "nbformat_minor": 5
}
