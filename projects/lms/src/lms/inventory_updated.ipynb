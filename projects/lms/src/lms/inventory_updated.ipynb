{
 "cells": [
  {
   "cell_type": "code",
   "execution_count": null,
   "id": "3363768b",
   "metadata": {},
   "outputs": [],
   "source": [
    "from sqlalchemy import create_engine\n",
    "from sqlalchemy.orm import sessionmaker\n",
    "import os \n",
    "import dotenv\n",
    "dotenv.load_dotenv()\n",
    "\n",
    "in_url  =os.getenv(\"INSTITUTE_DB_URL\")\n",
    "\n",
    "engine = create_engine(in_url)\n",
    "Session = sessionmaker(bind=engine)\n"
   ]
  },
  {
   "cell_type": "code",
   "execution_count": null,
   "id": "a2d00d95",
   "metadata": {},
   "outputs": [],
   "source": [
    "from sqlalchemy.orm import  Mapped, mapped_column,DeclarativeBase,String\n",
    "\n",
    "class Base(DeclarativeBase):\n",
    "    pass\n",
    "\n"
   ]
  },
  {
   "cell_type": "code",
   "execution_count": null,
   "id": "1fa363c7",
   "metadata": {},
   "outputs": [],
   "source": [
    "from sqlalchemy import ForeignKey\n",
    "from sqlalchemy.orm import  relationship\n",
    "\n",
    "class User(IdentityMixin, TimestampMixin, Base):\n",
    "    __tablename__ = \"users\"\n",
    "    username: Mapped[str] = mapped_column(\n",
    "        String(100),\n",
    "        nullable = False\n",
    "    )\n",
    "\n",
    "    # logical field\n",
    "    posts: Mapped[list[\"Post\"]] = relationship(\n",
    "        \"Post\", back_populates=\"user\", cascade=\"all, delete-orphan\"\n",
    "    )"
   ]
  },
  {
   "cell_type": "code",
   "execution_count": null,
   "id": "09090d7f",
   "metadata": {},
   "outputs": [],
   "source": [
    "class Post(IdentityMixin, TimestampMixin, Base):\n",
    "    __tablename__ = \"posts\"\n",
    "    post:  Mapped[str] = mapped_column(\n",
    "        String(100),\n",
    "        nullable = False\n",
    "    )\n",
    "    user_id: Mapped[int] = mapped_column(\n",
    "        Integer,\n",
    "        ForeignKey('users.id'),\n",
    "        nullable=False\n",
    "    )\n",
    "    # logical field\n",
    "    user: Mapped[\"User\"] = relationship(\"User\", back_populates=\"posts\")"
   ]
  },
  {
   "cell_type": "code",
   "execution_count": null,
   "id": "26ac23bc",
   "metadata": {},
   "outputs": [],
   "source": [
    "# Student model\n",
    "class Student(IdentityMixin, TimestampMixin, Base):\n",
    "    __tablename__ = \"students\"\n",
    "\n",
    "    name: Mapped[str] = mapped_column(String(50), nullable=False)\n",
    "    enrollments: Mapped[list[\"Enrollment\"]] = relationship(\n",
    "        \"Enrollment\", back_populates=\"student\", cascade=\"all, delete-orphan\"\n",
    "    )\n",
    "\n",
    "\n",
    "class Course(IdentityMixin, TimestampMixin, Base):\n",
    "    __tablename__ = \"courses\"\n",
    "\n",
    "    title: Mapped[str] = mapped_column(String(100), nullable=False)\n",
    "    enrollments: Mapped[list[\"Enrollment\"]] = relationship(\n",
    "        \"Enrollment\", back_populates=\"course\", cascade=\"all, delete-orphan\"\n",
    "    )"
   ]
  },
  {
   "cell_type": "code",
   "execution_count": null,
   "id": "b5004877",
   "metadata": {},
   "outputs": [],
   "source": [
    "class Enrollment(IdentityMixin, TimestampMixin, Base):\n",
    "    __tablename__ = \"enrollments\"\n",
    "\n",
    "    student_id: Mapped[int] = mapped_column(ForeignKey(\"students.id\"), nullable=False)\n",
    "    course_id: Mapped[int] = mapped_column(ForeignKey(\"courses.id\"), nullable=False)\n",
    "\n",
    "    \n",
    "    # Relationships\n",
    "    student: Mapped[\"Student\"] = relationship(\"Student\", back_populates=\"enrollments\")\n",
    "    course: Mapped[\"Course\"] = relationship(\"Course\", back_populates=\"enrollments\")"
   ]
  },
  {
   "cell_type": "code",
   "execution_count": null,
   "id": "12fdb6fe",
   "metadata": {},
   "outputs": [],
   "source": [
    "Base.metadata.create_all(engine)"
   ]
  }
 ],
 "metadata": {
  "kernelspec": {
   "display_name": "Python 3",
   "language": "python",
   "name": "python3"
  },
  "language_info": {
   "name": "python",
   "version": "3.12.9"
  }
 },
 "nbformat": 4,
 "nbformat_minor": 5
}
