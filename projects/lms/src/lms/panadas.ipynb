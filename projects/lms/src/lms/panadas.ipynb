{
 "cells": [
  {
   "cell_type": "code",
   "execution_count": null,
   "id": "3cd13dff",
   "metadata": {},
   "outputs": [
    {
     "name": "stdout",
     "output_type": "stream",
     "text": [
      "odd _num:  [1, 3, 5, 7, 9, 11, 13, 15, 17, 19]\n",
      "even  [2, 4, 6, 8, 10, 12, 14, 16, 18]\n"
     ]
    }
   ],
   "source": [
    "even_num = list()\n",
    "odd_num = list()\n",
    "fibonocci =list()\n",
    "for num in range(1,20):\n",
    " if num % 2 == 0 :\n",
    "  even_num.append(num)\n",
    " else:\n",
    "  odd_num.append(num)\n",
    "\n",
    "print(\"odd _num: \",odd_num)\n",
    "print(\"even: \",even_num)"
   ]
  },
  {
   "cell_type": "code",
   "execution_count": 7,
   "id": "1a4aa590",
   "metadata": {},
   "outputs": [],
   "source": [
    "def feb_gen():\n",
    "    a,b = 0,1\n",
    "    while True:\n",
    "        yield a\n",
    "        a,b=b,a+b"
   ]
  },
  {
   "cell_type": "code",
   "execution_count": 8,
   "id": "76cc97ae",
   "metadata": {},
   "outputs": [
    {
     "name": "stdout",
     "output_type": "stream",
     "text": [
      "[0, 1, 1, 2, 3, 5, 8, 13, 21, 34, 55, 89, 144, 233, 377, 610, 987, 1597, 2584, 4181]\n"
     ]
    }
   ],
   "source": [
    "fib_gen= feb_gen()\n",
    "fib_list=[next(fib_gen) for _ in range(20)]\n",
    "print(fib_list)"
   ]
  }
 ],
 "metadata": {
  "kernelspec": {
   "display_name": ".venv",
   "language": "python",
   "name": "python3"
  },
  "language_info": {
   "codemirror_mode": {
    "name": "ipython",
    "version": 3
   },
   "file_extension": ".py",
   "mimetype": "text/x-python",
   "name": "python",
   "nbconvert_exporter": "python",
   "pygments_lexer": "ipython3",
   "version": "3.13.3"
  }
 },
 "nbformat": 4,
 "nbformat_minor": 5
}
